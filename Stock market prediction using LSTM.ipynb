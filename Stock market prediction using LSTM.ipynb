{
 "cells": [
  {
   "cell_type": "code",
   "execution_count": 1,
   "id": "59374fc0",
   "metadata": {},
   "outputs": [],
   "source": [
    "#used tiingo tenserflow"
   ]
  },
  {
   "cell_type": "code",
   "execution_count": 2,
   "id": "0bd50f6b",
   "metadata": {},
   "outputs": [],
   "source": [
    "import pandas_datareader as pdr"
   ]
  },
  {
   "cell_type": "code",
   "execution_count": 3,
   "id": "5febe655",
   "metadata": {
    "scrolled": true
   },
   "outputs": [
    {
     "name": "stderr",
     "output_type": "stream",
     "text": [
      "C:\\Users\\Shruti\\AppData\\Local\\Temp\\ipykernel_14056\\2850544368.py:1: FutureWarning: In a future version of pandas all arguments of concat except for the argument 'objs' will be keyword-only.\n",
      "  df = pdr.get_data_tiingo('AAPL',api_key = '611097048091d2e0731e232a0381386482c5ab88')\n"
     ]
    }
   ],
   "source": [
    "df = pdr.get_data_tiingo('AAPL',api_key = '611097048091d2e0731e232a0381386482c5ab88')"
   ]
  },
  {
   "cell_type": "code",
   "execution_count": 4,
   "id": "a67c8073",
   "metadata": {},
   "outputs": [],
   "source": [
    "df.to_csv('AAPL.csv')"
   ]
  },
  {
   "cell_type": "code",
   "execution_count": 5,
   "id": "3dfe15ff",
   "metadata": {},
   "outputs": [],
   "source": [
    "import pandas as pd"
   ]
  },
  {
   "cell_type": "code",
   "execution_count": 6,
   "id": "a35814d1",
   "metadata": {},
   "outputs": [],
   "source": [
    "df = pd.read_csv('AAPL.csv')"
   ]
  },
  {
   "cell_type": "code",
   "execution_count": 7,
   "id": "afe47edd",
   "metadata": {},
   "outputs": [
    {
     "data": {
      "text/html": [
       "<div>\n",
       "<style scoped>\n",
       "    .dataframe tbody tr th:only-of-type {\n",
       "        vertical-align: middle;\n",
       "    }\n",
       "\n",
       "    .dataframe tbody tr th {\n",
       "        vertical-align: top;\n",
       "    }\n",
       "\n",
       "    .dataframe thead th {\n",
       "        text-align: right;\n",
       "    }\n",
       "</style>\n",
       "<table border=\"1\" class=\"dataframe\">\n",
       "  <thead>\n",
       "    <tr style=\"text-align: right;\">\n",
       "      <th></th>\n",
       "      <th>symbol</th>\n",
       "      <th>date</th>\n",
       "      <th>close</th>\n",
       "      <th>high</th>\n",
       "      <th>low</th>\n",
       "      <th>open</th>\n",
       "      <th>volume</th>\n",
       "      <th>adjClose</th>\n",
       "      <th>adjHigh</th>\n",
       "      <th>adjLow</th>\n",
       "      <th>adjOpen</th>\n",
       "      <th>adjVolume</th>\n",
       "      <th>divCash</th>\n",
       "      <th>splitFactor</th>\n",
       "    </tr>\n",
       "  </thead>\n",
       "  <tbody>\n",
       "    <tr>\n",
       "      <th>0</th>\n",
       "      <td>AAPL</td>\n",
       "      <td>2019-03-13 00:00:00+00:00</td>\n",
       "      <td>181.71</td>\n",
       "      <td>183.30</td>\n",
       "      <td>180.92</td>\n",
       "      <td>182.25</td>\n",
       "      <td>31032524</td>\n",
       "      <td>43.731638</td>\n",
       "      <td>44.114299</td>\n",
       "      <td>43.541511</td>\n",
       "      <td>43.861598</td>\n",
       "      <td>124130096</td>\n",
       "      <td>0.0</td>\n",
       "      <td>1.0</td>\n",
       "    </tr>\n",
       "    <tr>\n",
       "      <th>1</th>\n",
       "      <td>AAPL</td>\n",
       "      <td>2019-03-14 00:00:00+00:00</td>\n",
       "      <td>183.73</td>\n",
       "      <td>184.10</td>\n",
       "      <td>182.56</td>\n",
       "      <td>183.90</td>\n",
       "      <td>23579508</td>\n",
       "      <td>44.217786</td>\n",
       "      <td>44.306833</td>\n",
       "      <td>43.936205</td>\n",
       "      <td>44.258699</td>\n",
       "      <td>94318032</td>\n",
       "      <td>0.0</td>\n",
       "      <td>1.0</td>\n",
       "    </tr>\n",
       "    <tr>\n",
       "      <th>2</th>\n",
       "      <td>AAPL</td>\n",
       "      <td>2019-03-15 00:00:00+00:00</td>\n",
       "      <td>186.12</td>\n",
       "      <td>187.33</td>\n",
       "      <td>183.74</td>\n",
       "      <td>184.85</td>\n",
       "      <td>39042912</td>\n",
       "      <td>44.792981</td>\n",
       "      <td>45.084188</td>\n",
       "      <td>44.220193</td>\n",
       "      <td>44.487333</td>\n",
       "      <td>156171648</td>\n",
       "      <td>0.0</td>\n",
       "      <td>1.0</td>\n",
       "    </tr>\n",
       "    <tr>\n",
       "      <th>3</th>\n",
       "      <td>AAPL</td>\n",
       "      <td>2019-03-18 00:00:00+00:00</td>\n",
       "      <td>188.02</td>\n",
       "      <td>188.39</td>\n",
       "      <td>185.79</td>\n",
       "      <td>185.80</td>\n",
       "      <td>26219832</td>\n",
       "      <td>45.250248</td>\n",
       "      <td>45.339295</td>\n",
       "      <td>44.713560</td>\n",
       "      <td>44.715967</td>\n",
       "      <td>104879328</td>\n",
       "      <td>0.0</td>\n",
       "      <td>1.0</td>\n",
       "    </tr>\n",
       "    <tr>\n",
       "      <th>4</th>\n",
       "      <td>AAPL</td>\n",
       "      <td>2019-03-19 00:00:00+00:00</td>\n",
       "      <td>186.53</td>\n",
       "      <td>188.99</td>\n",
       "      <td>185.92</td>\n",
       "      <td>188.35</td>\n",
       "      <td>31646369</td>\n",
       "      <td>44.891654</td>\n",
       "      <td>45.483695</td>\n",
       "      <td>44.744847</td>\n",
       "      <td>45.329668</td>\n",
       "      <td>126585476</td>\n",
       "      <td>0.0</td>\n",
       "      <td>1.0</td>\n",
       "    </tr>\n",
       "  </tbody>\n",
       "</table>\n",
       "</div>"
      ],
      "text/plain": [
       "  symbol                       date   close    high     low    open    volume  \\\n",
       "0   AAPL  2019-03-13 00:00:00+00:00  181.71  183.30  180.92  182.25  31032524   \n",
       "1   AAPL  2019-03-14 00:00:00+00:00  183.73  184.10  182.56  183.90  23579508   \n",
       "2   AAPL  2019-03-15 00:00:00+00:00  186.12  187.33  183.74  184.85  39042912   \n",
       "3   AAPL  2019-03-18 00:00:00+00:00  188.02  188.39  185.79  185.80  26219832   \n",
       "4   AAPL  2019-03-19 00:00:00+00:00  186.53  188.99  185.92  188.35  31646369   \n",
       "\n",
       "    adjClose    adjHigh     adjLow    adjOpen  adjVolume  divCash  splitFactor  \n",
       "0  43.731638  44.114299  43.541511  43.861598  124130096      0.0          1.0  \n",
       "1  44.217786  44.306833  43.936205  44.258699   94318032      0.0          1.0  \n",
       "2  44.792981  45.084188  44.220193  44.487333  156171648      0.0          1.0  \n",
       "3  45.250248  45.339295  44.713560  44.715967  104879328      0.0          1.0  \n",
       "4  44.891654  45.483695  44.744847  45.329668  126585476      0.0          1.0  "
      ]
     },
     "execution_count": 7,
     "metadata": {},
     "output_type": "execute_result"
    }
   ],
   "source": [
    "df.head()"
   ]
  },
  {
   "cell_type": "code",
   "execution_count": 8,
   "id": "083b0863",
   "metadata": {},
   "outputs": [
    {
     "data": {
      "text/html": [
       "<div>\n",
       "<style scoped>\n",
       "    .dataframe tbody tr th:only-of-type {\n",
       "        vertical-align: middle;\n",
       "    }\n",
       "\n",
       "    .dataframe tbody tr th {\n",
       "        vertical-align: top;\n",
       "    }\n",
       "\n",
       "    .dataframe thead th {\n",
       "        text-align: right;\n",
       "    }\n",
       "</style>\n",
       "<table border=\"1\" class=\"dataframe\">\n",
       "  <thead>\n",
       "    <tr style=\"text-align: right;\">\n",
       "      <th></th>\n",
       "      <th>symbol</th>\n",
       "      <th>date</th>\n",
       "      <th>close</th>\n",
       "      <th>high</th>\n",
       "      <th>low</th>\n",
       "      <th>open</th>\n",
       "      <th>volume</th>\n",
       "      <th>adjClose</th>\n",
       "      <th>adjHigh</th>\n",
       "      <th>adjLow</th>\n",
       "      <th>adjOpen</th>\n",
       "      <th>adjVolume</th>\n",
       "      <th>divCash</th>\n",
       "      <th>splitFactor</th>\n",
       "    </tr>\n",
       "  </thead>\n",
       "  <tbody>\n",
       "    <tr>\n",
       "      <th>1252</th>\n",
       "      <td>AAPL</td>\n",
       "      <td>2024-03-04 00:00:00+00:00</td>\n",
       "      <td>175.10</td>\n",
       "      <td>176.90</td>\n",
       "      <td>173.79</td>\n",
       "      <td>176.15</td>\n",
       "      <td>81510101</td>\n",
       "      <td>175.10</td>\n",
       "      <td>176.90</td>\n",
       "      <td>173.79</td>\n",
       "      <td>176.15</td>\n",
       "      <td>81510101</td>\n",
       "      <td>0.0</td>\n",
       "      <td>1.0</td>\n",
       "    </tr>\n",
       "    <tr>\n",
       "      <th>1253</th>\n",
       "      <td>AAPL</td>\n",
       "      <td>2024-03-05 00:00:00+00:00</td>\n",
       "      <td>170.12</td>\n",
       "      <td>172.04</td>\n",
       "      <td>169.62</td>\n",
       "      <td>170.76</td>\n",
       "      <td>95132355</td>\n",
       "      <td>170.12</td>\n",
       "      <td>172.04</td>\n",
       "      <td>169.62</td>\n",
       "      <td>170.76</td>\n",
       "      <td>95132355</td>\n",
       "      <td>0.0</td>\n",
       "      <td>1.0</td>\n",
       "    </tr>\n",
       "    <tr>\n",
       "      <th>1254</th>\n",
       "      <td>AAPL</td>\n",
       "      <td>2024-03-06 00:00:00+00:00</td>\n",
       "      <td>169.12</td>\n",
       "      <td>171.24</td>\n",
       "      <td>168.68</td>\n",
       "      <td>171.06</td>\n",
       "      <td>68587707</td>\n",
       "      <td>169.12</td>\n",
       "      <td>171.24</td>\n",
       "      <td>168.68</td>\n",
       "      <td>171.06</td>\n",
       "      <td>68587707</td>\n",
       "      <td>0.0</td>\n",
       "      <td>1.0</td>\n",
       "    </tr>\n",
       "    <tr>\n",
       "      <th>1255</th>\n",
       "      <td>AAPL</td>\n",
       "      <td>2024-03-07 00:00:00+00:00</td>\n",
       "      <td>169.00</td>\n",
       "      <td>170.73</td>\n",
       "      <td>168.49</td>\n",
       "      <td>169.15</td>\n",
       "      <td>71765061</td>\n",
       "      <td>169.00</td>\n",
       "      <td>170.73</td>\n",
       "      <td>168.49</td>\n",
       "      <td>169.15</td>\n",
       "      <td>71765061</td>\n",
       "      <td>0.0</td>\n",
       "      <td>1.0</td>\n",
       "    </tr>\n",
       "    <tr>\n",
       "      <th>1256</th>\n",
       "      <td>AAPL</td>\n",
       "      <td>2024-03-08 00:00:00+00:00</td>\n",
       "      <td>170.73</td>\n",
       "      <td>173.70</td>\n",
       "      <td>168.94</td>\n",
       "      <td>169.00</td>\n",
       "      <td>76267041</td>\n",
       "      <td>170.73</td>\n",
       "      <td>173.70</td>\n",
       "      <td>168.94</td>\n",
       "      <td>169.00</td>\n",
       "      <td>76267041</td>\n",
       "      <td>0.0</td>\n",
       "      <td>1.0</td>\n",
       "    </tr>\n",
       "  </tbody>\n",
       "</table>\n",
       "</div>"
      ],
      "text/plain": [
       "     symbol                       date   close    high     low    open  \\\n",
       "1252   AAPL  2024-03-04 00:00:00+00:00  175.10  176.90  173.79  176.15   \n",
       "1253   AAPL  2024-03-05 00:00:00+00:00  170.12  172.04  169.62  170.76   \n",
       "1254   AAPL  2024-03-06 00:00:00+00:00  169.12  171.24  168.68  171.06   \n",
       "1255   AAPL  2024-03-07 00:00:00+00:00  169.00  170.73  168.49  169.15   \n",
       "1256   AAPL  2024-03-08 00:00:00+00:00  170.73  173.70  168.94  169.00   \n",
       "\n",
       "        volume  adjClose  adjHigh  adjLow  adjOpen  adjVolume  divCash  \\\n",
       "1252  81510101    175.10   176.90  173.79   176.15   81510101      0.0   \n",
       "1253  95132355    170.12   172.04  169.62   170.76   95132355      0.0   \n",
       "1254  68587707    169.12   171.24  168.68   171.06   68587707      0.0   \n",
       "1255  71765061    169.00   170.73  168.49   169.15   71765061      0.0   \n",
       "1256  76267041    170.73   173.70  168.94   169.00   76267041      0.0   \n",
       "\n",
       "      splitFactor  \n",
       "1252          1.0  \n",
       "1253          1.0  \n",
       "1254          1.0  \n",
       "1255          1.0  \n",
       "1256          1.0  "
      ]
     },
     "execution_count": 8,
     "metadata": {},
     "output_type": "execute_result"
    }
   ],
   "source": [
    "df.tail()"
   ]
  },
  {
   "cell_type": "code",
   "execution_count": 9,
   "id": "007675c2",
   "metadata": {},
   "outputs": [],
   "source": [
    "df1 = df.reset_index()['close']"
   ]
  },
  {
   "cell_type": "code",
   "execution_count": 10,
   "id": "c4508ed1",
   "metadata": {},
   "outputs": [
    {
     "data": {
      "text/plain": [
       "0       181.71\n",
       "1       183.73\n",
       "2       186.12\n",
       "3       188.02\n",
       "4       186.53\n",
       "         ...  \n",
       "1252    175.10\n",
       "1253    170.12\n",
       "1254    169.12\n",
       "1255    169.00\n",
       "1256    170.73\n",
       "Name: close, Length: 1257, dtype: float64"
      ]
     },
     "execution_count": 10,
     "metadata": {},
     "output_type": "execute_result"
    }
   ],
   "source": [
    "df1"
   ]
  },
  {
   "cell_type": "code",
   "execution_count": 11,
   "id": "38f6d2d1",
   "metadata": {},
   "outputs": [
    {
     "data": {
      "text/plain": [
       "(1257, 14)"
      ]
     },
     "execution_count": 11,
     "metadata": {},
     "output_type": "execute_result"
    }
   ],
   "source": [
    "df.shape"
   ]
  },
  {
   "cell_type": "code",
   "execution_count": 12,
   "id": "ebcae916",
   "metadata": {},
   "outputs": [
    {
     "data": {
      "text/plain": [
       "[<matplotlib.lines.Line2D at 0x189403db130>]"
      ]
     },
     "execution_count": 12,
     "metadata": {},
     "output_type": "execute_result"
    },
    {
     "data": {
      "image/png": "[encoded data removed]",
      "text/plain": [
       "<Figure size 640x480 with 1 Axes>"
      ]
     },
     "metadata": {},
     "output_type": "display_data"
    }
   ],
   "source": [
    "import matplotlib.pyplot as plt\n",
    "plt.plot(df1)"
   ]
  },
  {
   "cell_type": "code",
   "execution_count": 13,
   "id": "084f8440",
   "metadata": {},
   "outputs": [],
   "source": [
    "##LSTM are sensetive to the scale of the data, so we apply MinMax Scaler"
   ]
  },
  {
   "cell_type": "code",
   "execution_count": 14,
   "id": "24ddebed",
   "metadata": {},
   "outputs": [],
   "source": [
    "import numpy as np"
   ]
  },
  {
   "cell_type": "code",
   "execution_count": 15,
   "id": "5d3f6460",
   "metadata": {},
   "outputs": [],
   "source": [
    "from sklearn.preprocessing import MinMaxScaler\n",
    "scaler = MinMaxScaler(feature_range=(0,1))\n",
    "df1=scaler.fit_transform(np.array(df1).reshape(-1,1))"
   ]
  },
  {
   "cell_type": "code",
   "execution_count": 16,
   "id": "8272e6f0",
   "metadata": {},
   "outputs": [
    {
     "data": {
      "text/plain": [
       "(1257, 1)"
      ]
     },
     "execution_count": 16,
     "metadata": {},
     "output_type": "execute_result"
    }
   ],
   "source": [
    "df1.shape"
   ]
  },
  {
   "cell_type": "code",
   "execution_count": 17,
   "id": "b459ea78",
   "metadata": {},
   "outputs": [
    {
     "data": {
      "text/plain": [
       "array([[0.18752661],\n",
       "       [0.1925861 ],\n",
       "       [0.19857232],\n",
       "       ...,\n",
       "       [0.15599249],\n",
       "       [0.15569192],\n",
       "       [0.16002505]])"
      ]
     },
     "execution_count": 17,
     "metadata": {},
     "output_type": "execute_result"
    }
   ],
   "source": [
    "df1"
   ]
  },
  {
   "cell_type": "code",
   "execution_count": 18,
   "id": "6b9d9736",
   "metadata": {},
   "outputs": [],
   "source": [
    "#splitting the data into train and test split\n",
    "training_size=int(len(df1)*0.70)\n",
    "test_size= len(df1) - training_size\n",
    "train_data,test_data = df1[0:training_size,:], df1[training_size:len(df1),:1]"
   ]
  },
  {
   "cell_type": "code",
   "execution_count": 19,
   "id": "a3f963b8",
   "metadata": {},
   "outputs": [
    {
     "data": {
      "text/plain": [
       "(879, 378)"
      ]
     },
     "execution_count": 19,
     "metadata": {},
     "output_type": "execute_result"
    }
   ],
   "source": [
    "training_size, test_size"
   ]
  },
  {
   "cell_type": "code",
   "execution_count": 20,
   "id": "2e7fc3e1",
   "metadata": {},
   "outputs": [
    {
     "data": {
      "text/plain": [
       "(879, 378)"
      ]
     },
     "execution_count": 20,
     "metadata": {},
     "output_type": "execute_result"
    }
   ],
   "source": [
    "len(train_data), len(test_data)"
   ]
  },
  {
   "cell_type": "code",
   "execution_count": 21,
   "id": "0875a382",
   "metadata": {},
   "outputs": [],
   "source": [
    "import numpy\n",
    "#convert an array of values into a dataset matrix\n",
    "def create_dataset(dataset, time_step=1):\n",
    "    dataX, dataY=[],[]\n",
    "    for i in range(len(dataset)-time_step-1):\n",
    "        a = dataset[i:(i+time_step),0]\n",
    "        dataX.append(a)\n",
    "        dataY.append(dataset[i+time_step,0])\n",
    "    return numpy.array(dataX), numpy.array(dataY)"
   ]
  },
  {
   "cell_type": "code",
   "execution_count": 22,
   "id": "38a6a82f",
   "metadata": {},
   "outputs": [],
   "source": [
    "time_step=100\n",
    "x_train, y_train = create_dataset(train_data,time_step)\n",
    "x_test, y_test= create_dataset(test_data, time_step)"
   ]
  },
  {
   "cell_type": "code",
   "execution_count": 23,
   "id": "80cab203",
   "metadata": {},
   "outputs": [
    {
     "name": "stdout",
     "output_type": "stream",
     "text": [
      "(778, 100)\n",
      "(778,)\n"
     ]
    },
    {
     "data": {
      "text/plain": [
       "(None, None)"
      ]
     },
     "execution_count": 23,
     "metadata": {},
     "output_type": "execute_result"
    }
   ],
   "source": [
    "print(x_train.shape), print(y_train.shape)"
   ]
  },
  {
   "cell_type": "code",
   "execution_count": 24,
   "id": "d57e0700",
   "metadata": {},
   "outputs": [
    {
     "name": "stdout",
     "output_type": "stream",
     "text": [
      "(277, 100)\n",
      "(277,)\n"
     ]
    },
    {
     "data": {
      "text/plain": [
       "(None, None)"
      ]
     },
     "execution_count": 24,
     "metadata": {},
     "output_type": "execute_result"
    }
   ],
   "source": [
    "print(x_test.shape), print(y_test.shape)"
   ]
  },
  {
   "cell_type": "code",
   "execution_count": 25,
   "id": "8ad3d8c7",
   "metadata": {},
   "outputs": [],
   "source": [
    "x_train =x_train.reshape(x_train.shape[0],x_train.shape[1],1)\n",
    "x_test =x_test.reshape(x_test.shape[0],x_test.shape[1],1)"
   ]
  },
  {
   "cell_type": "code",
   "execution_count": 26,
   "id": "2814a210",
   "metadata": {},
   "outputs": [
    {
     "name": "stdout",
     "output_type": "stream",
     "text": [
      "Requirement already satisfied: tensorflow in c:\\users\\shruti\\anaconda3\\lib\\site-packages (2.15.0)\n",
      "Requirement already satisfied: tensorflow-intel==2.15.0 in c:\\users\\shruti\\anaconda3\\lib\\site-packages (from tensorflow) (2.15.0)\n",
      "Requirement already satisfied: absl-py>=1.0.0 in c:\\users\\shruti\\anaconda3\\lib\\site-packages (from tensorflow-intel==2.15.0->tensorflow) (2.1.0)\n",
      "Requirement already satisfied: astunparse>=1.6.0 in c:\\users\\shruti\\anaconda3\\lib\\site-packages (from tensorflow-intel==2.15.0->tensorflow) (1.6.3)\n",
      "Requirement already satisfied: flatbuffers>=23.5.26 in c:\\users\\shruti\\anaconda3\\lib\\site-packages (from tensorflow-intel==2.15.0->tensorflow) (23.5.26)\n",
      "Requirement already satisfied: gast!=0.5.0,!=0.5.1,!=0.5.2,>=0.2.1 in c:\\users\\shruti\\anaconda3\\lib\\site-packages (from tensorflow-intel==2.15.0->tensorflow) (0.5.4)\n",
      "Requirement already satisfied: google-pasta>=0.1.1 in c:\\users\\shruti\\anaconda3\\lib\\site-packages (from tensorflow-intel==2.15.0->tensorflow) (0.2.0)\n",
      "Requirement already satisfied: h5py>=2.9.0 in c:\\users\\shruti\\anaconda3\\lib\\site-packages (from tensorflow-intel==2.15.0->tensorflow) (3.7.0)\n",
      "Requirement already satisfied: libclang>=13.0.0 in c:\\users\\shruti\\anaconda3\\lib\\site-packages (from tensorflow-intel==2.15.0->tensorflow) (16.0.6)\n",
      "Requirement already satisfied: ml-dtypes~=0.2.0 in c:\\users\\shruti\\anaconda3\\lib\\site-packages (from tensorflow-intel==2.15.0->tensorflow) (0.2.0)\n",
      "Requirement already satisfied: numpy<2.0.0,>=1.23.5 in c:\\users\\shruti\\anaconda3\\lib\\site-packages (from tensorflow-intel==2.15.0->tensorflow) (1.23.5)\n",
      "Requirement already satisfied: opt-einsum>=2.3.2 in c:\\users\\shruti\\anaconda3\\lib\\site-packages (from tensorflow-intel==2.15.0->tensorflow) (3.3.0)\n",
      "Requirement already satisfied: packaging in c:\\users\\shruti\\anaconda3\\lib\\site-packages (from tensorflow-intel==2.15.0->tensorflow) (22.0)\n",
      "Requirement already satisfied: protobuf!=4.21.0,!=4.21.1,!=4.21.2,!=4.21.3,!=4.21.4,!=4.21.5,<5.0.0dev,>=3.20.3 in c:\\users\\shruti\\anaconda3\\lib\\site-packages (from tensorflow-intel==2.15.0->tensorflow) (4.25.3)\n",
      "Requirement already satisfied: setuptools in c:\\users\\shruti\\anaconda3\\lib\\site-packages (from tensorflow-intel==2.15.0->tensorflow) (68.0.0)\n",
      "Requirement already satisfied: six>=1.12.0 in c:\\users\\shruti\\anaconda3\\lib\\site-packages (from tensorflow-intel==2.15.0->tensorflow) (1.16.0)\n",
      "Requirement already satisfied: termcolor>=1.1.0 in c:\\users\\shruti\\anaconda3\\lib\\site-packages (from tensorflow-intel==2.15.0->tensorflow) (2.4.0)\n",
      "Requirement already satisfied: typing-extensions>=3.6.6 in c:\\users\\shruti\\anaconda3\\lib\\site-packages (from tensorflow-intel==2.15.0->tensorflow) (4.4.0)\n",
      "Requirement already satisfied: wrapt<1.15,>=1.11.0 in c:\\users\\shruti\\anaconda3\\lib\\site-packages (from tensorflow-intel==2.15.0->tensorflow) (1.14.1)\n",
      "Requirement already satisfied: tensorflow-io-gcs-filesystem>=0.23.1 in c:\\users\\shruti\\anaconda3\\lib\\site-packages (from tensorflow-intel==2.15.0->tensorflow) (0.31.0)\n",
      "Requirement already satisfied: grpcio<2.0,>=1.24.3 in c:\\users\\shruti\\anaconda3\\lib\\site-packages (from tensorflow-intel==2.15.0->tensorflow) (1.62.0)\n",
      "Requirement already satisfied: tensorboard<2.16,>=2.15 in c:\\users\\shruti\\anaconda3\\lib\\site-packages (from tensorflow-intel==2.15.0->tensorflow) (2.15.2)\n",
      "Requirement already satisfied: tensorflow-estimator<2.16,>=2.15.0 in c:\\users\\shruti\\anaconda3\\lib\\site-packages (from tensorflow-intel==2.15.0->tensorflow) (2.15.0)\n",
      "Requirement already satisfied: keras<2.16,>=2.15.0 in c:\\users\\shruti\\anaconda3\\lib\\site-packages (from tensorflow-intel==2.15.0->tensorflow) (2.15.0)\n",
      "Requirement already satisfied: wheel<1.0,>=0.23.0 in c:\\users\\shruti\\anaconda3\\lib\\site-packages (from astunparse>=1.6.0->tensorflow-intel==2.15.0->tensorflow) (0.40.0)\n",
      "Requirement already satisfied: google-auth<3,>=1.6.3 in c:\\users\\shruti\\anaconda3\\lib\\site-packages (from tensorboard<2.16,>=2.15->tensorflow-intel==2.15.0->tensorflow) (2.28.1)\n",
      "Requirement already satisfied: google-auth-oauthlib<2,>=0.5 in c:\\users\\shruti\\anaconda3\\lib\\site-packages (from tensorboard<2.16,>=2.15->tensorflow-intel==2.15.0->tensorflow) (1.2.0)\n",
      "Requirement already satisfied: markdown>=2.6.8 in c:\\users\\shruti\\anaconda3\\lib\\site-packages (from tensorboard<2.16,>=2.15->tensorflow-intel==2.15.0->tensorflow) (3.4.1)\n",
      "Requirement already satisfied: requests<3,>=2.21.0 in c:\\users\\shruti\\anaconda3\\lib\\site-packages (from tensorboard<2.16,>=2.15->tensorflow-intel==2.15.0->tensorflow) (2.28.1)\n",
      "Requirement already satisfied: tensorboard-data-server<0.8.0,>=0.7.0 in c:\\users\\shruti\\anaconda3\\lib\\site-packages (from tensorboard<2.16,>=2.15->tensorflow-intel==2.15.0->tensorflow) (0.7.2)\n",
      "Requirement already satisfied: werkzeug>=1.0.1 in c:\\users\\shruti\\anaconda3\\lib\\site-packages (from tensorboard<2.16,>=2.15->tensorflow-intel==2.15.0->tensorflow) (2.2.2)\n",
      "Requirement already satisfied: cachetools<6.0,>=2.0.0 in c:\\users\\shruti\\anaconda3\\lib\\site-packages (from google-auth<3,>=1.6.3->tensorboard<2.16,>=2.15->tensorflow-intel==2.15.0->tensorflow) (5.3.3)\n",
      "Requirement already satisfied: pyasn1-modules>=0.2.1 in c:\\users\\shruti\\anaconda3\\lib\\site-packages (from google-auth<3,>=1.6.3->tensorboard<2.16,>=2.15->tensorflow-intel==2.15.0->tensorflow) (0.2.8)\n",
      "Requirement already satisfied: rsa<5,>=3.1.4 in c:\\users\\shruti\\anaconda3\\lib\\site-packages (from google-auth<3,>=1.6.3->tensorboard<2.16,>=2.15->tensorflow-intel==2.15.0->tensorflow) (4.9)\n",
      "Requirement already satisfied: requests-oauthlib>=0.7.0 in c:\\users\\shruti\\anaconda3\\lib\\site-packages (from google-auth-oauthlib<2,>=0.5->tensorboard<2.16,>=2.15->tensorflow-intel==2.15.0->tensorflow) (1.3.1)\n",
      "Requirement already satisfied: charset-normalizer<3,>=2 in c:\\users\\shruti\\anaconda3\\lib\\site-packages (from requests<3,>=2.21.0->tensorboard<2.16,>=2.15->tensorflow-intel==2.15.0->tensorflow) (2.0.4)\n",
      "Requirement already satisfied: idna<4,>=2.5 in c:\\users\\shruti\\anaconda3\\lib\\site-packages (from requests<3,>=2.21.0->tensorboard<2.16,>=2.15->tensorflow-intel==2.15.0->tensorflow) (3.4)\n",
      "Requirement already satisfied: urllib3<1.27,>=1.21.1 in c:\\users\\shruti\\anaconda3\\lib\\site-packages (from requests<3,>=2.21.0->tensorboard<2.16,>=2.15->tensorflow-intel==2.15.0->tensorflow) (1.26.14)\n",
      "Requirement already satisfied: certifi>=2017.4.17 in c:\\users\\shruti\\anaconda3\\lib\\site-packages (from requests<3,>=2.21.0->tensorboard<2.16,>=2.15->tensorflow-intel==2.15.0->tensorflow) (2022.12.7)\n",
      "Requirement already satisfied: MarkupSafe>=2.1.1 in c:\\users\\shruti\\anaconda3\\lib\\site-packages (from werkzeug>=1.0.1->tensorboard<2.16,>=2.15->tensorflow-intel==2.15.0->tensorflow) (2.1.1)\n",
      "Requirement already satisfied: pyasn1<0.5.0,>=0.4.6 in c:\\users\\shruti\\anaconda3\\lib\\site-packages (from pyasn1-modules>=0.2.1->google-auth<3,>=1.6.3->tensorboard<2.16,>=2.15->tensorflow-intel==2.15.0->tensorflow) (0.4.8)\n",
      "Requirement already satisfied: oauthlib>=3.0.0 in c:\\users\\shruti\\anaconda3\\lib\\site-packages (from requests-oauthlib>=0.7.0->google-auth-oauthlib<2,>=0.5->tensorboard<2.16,>=2.15->tensorflow-intel==2.15.0->tensorflow) (3.2.2)\n",
      "Note: you may need to restart the kernel to use updated packages.\n"
     ]
    },
    {
     "name": "stderr",
     "output_type": "stream",
     "text": [
      "\n",
      "[notice] A new release of pip is available: 23.1.2 -> 24.0\n",
      "[notice] To update, run: python.exe -m pip install --upgrade pip\n"
     ]
    }
   ],
   "source": [
    "pip install tensorflow"
   ]
  },
  {
   "cell_type": "code",
   "execution_count": 27,
   "id": "3401a42b",
   "metadata": {},
   "outputs": [
    {
     "name": "stdout",
     "output_type": "stream",
     "text": [
      "WARNING:tensorflow:From C:\\Users\\Shruti\\anaconda3\\lib\\site-packages\\keras\\src\\losses.py:2976: The name tf.losses.sparse_softmax_cross_entropy is deprecated. Please use tf.compat.v1.losses.sparse_softmax_cross_entropy instead.\n",
      "\n"
     ]
    }
   ],
   "source": [
    "##creating Stacked LSTM model\n",
    "from tensorflow.keras.models import Sequential\n",
    "from tensorflow.keras.layers import Dense\n",
    "from tensorflow.keras.layers import LSTM"
   ]
  },
  {
   "cell_type": "code",
   "execution_count": 28,
   "id": "b299828c",
   "metadata": {},
   "outputs": [
    {
     "name": "stdout",
     "output_type": "stream",
     "text": [
      "WARNING:tensorflow:From C:\\Users\\Shruti\\anaconda3\\lib\\site-packages\\keras\\src\\backend.py:873: The name tf.get_default_graph is deprecated. Please use tf.compat.v1.get_default_graph instead.\n",
      "\n",
      "WARNING:tensorflow:From C:\\Users\\Shruti\\anaconda3\\lib\\site-packages\\keras\\src\\optimizers\\__init__.py:309: The name tf.train.Optimizer is deprecated. Please use tf.compat.v1.train.Optimizer instead.\n",
      "\n"
     ]
    }
   ],
   "source": [
    "model=Sequential()\n",
    "model.add(LSTM(50,return_sequences=True, input_shape=(100,1)))\n",
    "model.add(LSTM(50, return_sequences =True))\n",
    "model.add(LSTM(50))\n",
    "model.add(Dense(1))\n",
    "model.compile(loss='mean_squared_error', optimizer='adam')"
   ]
  },
  {
   "cell_type": "code",
   "execution_count": 29,
   "id": "c0c844ab",
   "metadata": {
    "scrolled": true
   },
   "outputs": [
    {
     "name": "stdout",
     "output_type": "stream",
     "text": [
      "Model: \"sequential\"\n",
      "_________________________________________________________________\n",
      " Layer (type)                Output Shape              Param #   \n",
      "=================================================================\n",
      " lstm (LSTM)                 (None, 100, 50)           10400     \n",
      "                                                                 \n",
      " lstm_1 (LSTM)               (None, 100, 50)           20200     \n",
      "                                                                 \n",
      " lstm_2 (LSTM)               (None, 50)                20200     \n",
      "                                                                 \n",
      " dense (Dense)               (None, 1)                 51        \n",
      "                                                                 \n",
      "=================================================================\n",
      "Total params: 50851 (198.64 KB)\n",
      "Trainable params: 50851 (198.64 KB)\n",
      "Non-trainable params: 0 (0.00 Byte)\n",
      "_________________________________________________________________\n"
     ]
    }
   ],
   "source": [
    "model.summary()"
   ]
  },
  {
   "cell_type": "code",
   "execution_count": 30,
   "id": "1b923515",
   "metadata": {
    "scrolled": true
   },
   "outputs": [
    {
     "name": "stdout",
     "output_type": "stream",
     "text": [
      "Epoch 1/100\n",
      "WARNING:tensorflow:From C:\\Users\\Shruti\\anaconda3\\lib\\site-packages\\keras\\src\\utils\\tf_utils.py:492: The name tf.ragged.RaggedTensorValue is deprecated. Please use tf.compat.v1.ragged.RaggedTensorValue instead.\n",
      "\n",
      "13/13 [==============================] - 5s 128ms/step - loss: 0.0357 - val_loss: 5.4166e-04\n",
      "Epoch 2/100\n",
      "13/13 [==============================] - 1s 62ms/step - loss: 0.0121 - val_loss: 3.9635e-04\n",
      "Epoch 3/100\n",
      "13/13 [==============================] - 1s 59ms/step - loss: 0.0114 - val_loss: 0.0013\n",
      "Epoch 4/100\n",
      "13/13 [==============================] - 1s 59ms/step - loss: 0.0101 - val_loss: 3.3663e-04\n",
      "Epoch 5/100\n",
      "13/13 [==============================] - 1s 56ms/step - loss: 0.0082 - val_loss: 4.8686e-04\n",
      "Epoch 6/100\n",
      "13/13 [==============================] - 1s 56ms/step - loss: 0.0074 - val_loss: 2.1506e-04\n",
      "Epoch 7/100\n",
      "13/13 [==============================] - 1s 55ms/step - loss: 0.0066 - val_loss: 8.0188e-04\n",
      "Epoch 8/100\n",
      "13/13 [==============================] - 1s 55ms/step - loss: 0.0058 - val_loss: 2.7061e-04\n",
      "Epoch 9/100\n",
      "13/13 [==============================] - 1s 56ms/step - loss: 0.0058 - val_loss: 2.6712e-04\n",
      "Epoch 10/100\n",
      "13/13 [==============================] - 1s 56ms/step - loss: 0.0051 - val_loss: 2.2071e-04\n",
      "Epoch 11/100\n",
      "13/13 [==============================] - 1s 55ms/step - loss: 0.0047 - val_loss: 4.9591e-04\n",
      "Epoch 12/100\n",
      "13/13 [==============================] - 1s 56ms/step - loss: 0.0041 - val_loss: 7.9421e-04\n",
      "Epoch 13/100\n",
      "13/13 [==============================] - 1s 56ms/step - loss: 0.0043 - val_loss: 3.9671e-04\n",
      "Epoch 14/100\n",
      "13/13 [==============================] - 1s 56ms/step - loss: 0.0035 - val_loss: 4.2778e-04\n",
      "Epoch 15/100\n",
      "13/13 [==============================] - 1s 55ms/step - loss: 0.0033 - val_loss: 2.6376e-04\n",
      "Epoch 16/100\n",
      "13/13 [==============================] - 1s 55ms/step - loss: 0.0033 - val_loss: 2.0626e-04\n",
      "Epoch 17/100\n",
      "13/13 [==============================] - 1s 55ms/step - loss: 0.0038 - val_loss: 1.8069e-04\n",
      "Epoch 18/100\n",
      "13/13 [==============================] - 1s 55ms/step - loss: 0.0031 - val_loss: 2.3860e-04\n",
      "Epoch 19/100\n",
      "13/13 [==============================] - 1s 56ms/step - loss: 0.0037 - val_loss: 3.2552e-04\n",
      "Epoch 20/100\n",
      "13/13 [==============================] - 1s 60ms/step - loss: 0.0029 - val_loss: 1.7903e-04\n",
      "Epoch 21/100\n",
      "13/13 [==============================] - 1s 58ms/step - loss: 0.0027 - val_loss: 1.9684e-04\n",
      "Epoch 22/100\n",
      "13/13 [==============================] - 1s 56ms/step - loss: 0.0025 - val_loss: 2.6720e-04\n",
      "Epoch 23/100\n",
      "13/13 [==============================] - 1s 57ms/step - loss: 0.0026 - val_loss: 6.1756e-04\n",
      "Epoch 24/100\n",
      "13/13 [==============================] - 1s 57ms/step - loss: 0.0038 - val_loss: 5.8907e-04\n",
      "Epoch 25/100\n",
      "13/13 [==============================] - 1s 58ms/step - loss: 0.0028 - val_loss: 2.2602e-04\n",
      "Epoch 26/100\n",
      "13/13 [==============================] - 1s 56ms/step - loss: 0.0030 - val_loss: 8.9749e-04\n",
      "Epoch 27/100\n",
      "13/13 [==============================] - 1s 56ms/step - loss: 0.0021 - val_loss: 2.2507e-04\n",
      "Epoch 28/100\n",
      "13/13 [==============================] - 1s 58ms/step - loss: 0.0021 - val_loss: 2.1758e-04\n",
      "Epoch 29/100\n",
      "13/13 [==============================] - 1s 57ms/step - loss: 0.0019 - val_loss: 1.7896e-04\n",
      "Epoch 30/100\n",
      "13/13 [==============================] - 1s 57ms/step - loss: 0.0019 - val_loss: 1.6627e-04\n",
      "Epoch 31/100\n",
      "13/13 [==============================] - 1s 58ms/step - loss: 0.0024 - val_loss: 2.0988e-04\n",
      "Epoch 32/100\n",
      "13/13 [==============================] - 1s 61ms/step - loss: 0.0018 - val_loss: 2.1211e-04\n",
      "Epoch 33/100\n",
      "13/13 [==============================] - 1s 60ms/step - loss: 0.0019 - val_loss: 2.4054e-04\n",
      "Epoch 34/100\n",
      "13/13 [==============================] - 1s 61ms/step - loss: 0.0031 - val_loss: 1.7686e-04\n",
      "Epoch 35/100\n",
      "13/13 [==============================] - 1s 59ms/step - loss: 0.0021 - val_loss: 1.6191e-04\n",
      "Epoch 36/100\n",
      "13/13 [==============================] - 1s 60ms/step - loss: 0.0018 - val_loss: 2.0788e-04\n",
      "Epoch 37/100\n",
      "13/13 [==============================] - 1s 56ms/step - loss: 0.0022 - val_loss: 1.7103e-04\n",
      "Epoch 38/100\n",
      "13/13 [==============================] - 1s 58ms/step - loss: 0.0015 - val_loss: 2.7886e-04\n",
      "Epoch 39/100\n",
      "13/13 [==============================] - 1s 59ms/step - loss: 0.0025 - val_loss: 5.9617e-04\n",
      "Epoch 40/100\n",
      "13/13 [==============================] - 1s 57ms/step - loss: 0.0034 - val_loss: 6.1271e-04\n",
      "Epoch 41/100\n",
      "13/13 [==============================] - 1s 57ms/step - loss: 0.0025 - val_loss: 2.2884e-04\n",
      "Epoch 42/100\n",
      "13/13 [==============================] - 1s 57ms/step - loss: 0.0031 - val_loss: 2.5973e-04\n",
      "Epoch 43/100\n",
      "13/13 [==============================] - 1s 56ms/step - loss: 0.0030 - val_loss: 1.5701e-04\n",
      "Epoch 44/100\n",
      "13/13 [==============================] - 1s 56ms/step - loss: 0.0026 - val_loss: 2.5152e-04\n",
      "Epoch 45/100\n",
      "13/13 [==============================] - 1s 56ms/step - loss: 0.0020 - val_loss: 2.3495e-04\n",
      "Epoch 46/100\n",
      "13/13 [==============================] - 1s 56ms/step - loss: 0.0020 - val_loss: 1.9177e-04\n",
      "Epoch 47/100\n",
      "13/13 [==============================] - 1s 56ms/step - loss: 0.0022 - val_loss: 1.6711e-04\n",
      "Epoch 48/100\n",
      "13/13 [==============================] - 1s 56ms/step - loss: 0.0015 - val_loss: 2.5391e-04\n",
      "Epoch 49/100\n",
      "13/13 [==============================] - 1s 56ms/step - loss: 0.0015 - val_loss: 1.6234e-04\n",
      "Epoch 50/100\n",
      "13/13 [==============================] - 1s 57ms/step - loss: 0.0020 - val_loss: 1.5033e-04\n",
      "Epoch 51/100\n",
      "13/13 [==============================] - 1s 57ms/step - loss: 0.0017 - val_loss: 1.6860e-04\n",
      "Epoch 52/100\n",
      "13/13 [==============================] - 1s 56ms/step - loss: 0.0014 - val_loss: 1.5112e-04\n",
      "Epoch 53/100\n",
      "13/13 [==============================] - 1s 56ms/step - loss: 0.0017 - val_loss: 1.5503e-04\n",
      "Epoch 54/100\n",
      "13/13 [==============================] - 1s 56ms/step - loss: 0.0014 - val_loss: 1.6832e-04\n",
      "Epoch 55/100\n",
      "13/13 [==============================] - 1s 57ms/step - loss: 0.0015 - val_loss: 2.5165e-04\n",
      "Epoch 56/100\n",
      "13/13 [==============================] - 1s 57ms/step - loss: 0.0018 - val_loss: 1.3900e-04\n",
      "Epoch 57/100\n",
      "13/13 [==============================] - 1s 57ms/step - loss: 0.0016 - val_loss: 3.3109e-04\n",
      "Epoch 58/100\n",
      "13/13 [==============================] - 1s 57ms/step - loss: 0.0020 - val_loss: 1.5138e-04\n",
      "Epoch 59/100\n",
      "13/13 [==============================] - 1s 56ms/step - loss: 0.0015 - val_loss: 2.3793e-04\n",
      "Epoch 60/100\n",
      "13/13 [==============================] - 1s 56ms/step - loss: 0.0015 - val_loss: 1.5813e-04\n",
      "Epoch 61/100\n",
      "13/13 [==============================] - 1s 57ms/step - loss: 0.0016 - val_loss: 1.4173e-04\n",
      "Epoch 62/100\n",
      "13/13 [==============================] - 1s 57ms/step - loss: 0.0013 - val_loss: 3.2167e-04\n",
      "Epoch 63/100\n",
      "13/13 [==============================] - 1s 57ms/step - loss: 0.0018 - val_loss: 2.0079e-04\n",
      "Epoch 64/100\n",
      "13/13 [==============================] - 1s 56ms/step - loss: 0.0036 - val_loss: 3.6795e-04\n",
      "Epoch 65/100\n",
      "13/13 [==============================] - 1s 56ms/step - loss: 0.0033 - val_loss: 2.9066e-04\n",
      "Epoch 66/100\n",
      "13/13 [==============================] - 1s 57ms/step - loss: 0.0028 - val_loss: 2.9966e-04\n",
      "Epoch 67/100\n",
      "13/13 [==============================] - 1s 56ms/step - loss: 0.0022 - val_loss: 1.8184e-04\n",
      "Epoch 68/100\n",
      "13/13 [==============================] - 1s 57ms/step - loss: 0.0019 - val_loss: 1.9158e-04\n",
      "Epoch 69/100\n",
      "13/13 [==============================] - 1s 56ms/step - loss: 0.0020 - val_loss: 1.8850e-04\n",
      "Epoch 70/100\n",
      "13/13 [==============================] - 1s 57ms/step - loss: 0.0018 - val_loss: 3.8727e-04\n",
      "Epoch 71/100\n",
      "13/13 [==============================] - 1s 57ms/step - loss: 0.0016 - val_loss: 1.6650e-04\n",
      "Epoch 72/100\n",
      "13/13 [==============================] - 1s 58ms/step - loss: 0.0016 - val_loss: 1.2617e-04\n",
      "Epoch 73/100\n",
      "13/13 [==============================] - 1s 57ms/step - loss: 0.0015 - val_loss: 2.2390e-04\n",
      "Epoch 74/100\n",
      "13/13 [==============================] - 1s 56ms/step - loss: 0.0015 - val_loss: 1.2500e-04\n",
      "Epoch 75/100\n",
      "13/13 [==============================] - 1s 57ms/step - loss: 0.0016 - val_loss: 1.5767e-04\n",
      "Epoch 76/100\n",
      "13/13 [==============================] - 1s 56ms/step - loss: 0.0016 - val_loss: 2.7629e-04\n",
      "Epoch 77/100\n"
     ]
    },
    {
     "name": "stdout",
     "output_type": "stream",
     "text": [
      "13/13 [==============================] - 1s 57ms/step - loss: 0.0033 - val_loss: 1.3244e-04\n",
      "Epoch 78/100\n",
      "13/13 [==============================] - 1s 56ms/step - loss: 0.0032 - val_loss: 1.5979e-04\n",
      "Epoch 79/100\n",
      "13/13 [==============================] - 1s 60ms/step - loss: 0.0025 - val_loss: 2.7704e-04\n",
      "Epoch 80/100\n",
      "13/13 [==============================] - 1s 60ms/step - loss: 0.0021 - val_loss: 1.7747e-04\n",
      "Epoch 81/100\n",
      "13/13 [==============================] - 1s 57ms/step - loss: 0.0020 - val_loss: 1.9325e-04\n",
      "Epoch 82/100\n",
      "13/13 [==============================] - 1s 58ms/step - loss: 0.0016 - val_loss: 1.6424e-04\n",
      "Epoch 83/100\n",
      "13/13 [==============================] - 1s 57ms/step - loss: 0.0014 - val_loss: 1.3603e-04\n",
      "Epoch 84/100\n",
      "13/13 [==============================] - 1s 57ms/step - loss: 0.0013 - val_loss: 1.4632e-04\n",
      "Epoch 85/100\n",
      "13/13 [==============================] - 1s 56ms/step - loss: 0.0016 - val_loss: 1.9167e-04\n",
      "Epoch 86/100\n",
      "13/13 [==============================] - 1s 57ms/step - loss: 0.0012 - val_loss: 1.5190e-04\n",
      "Epoch 87/100\n",
      "13/13 [==============================] - 1s 57ms/step - loss: 0.0013 - val_loss: 1.5521e-04\n",
      "Epoch 88/100\n",
      "13/13 [==============================] - 1s 56ms/step - loss: 9.4192e-04 - val_loss: 1.8011e-04\n",
      "Epoch 89/100\n",
      "13/13 [==============================] - 1s 57ms/step - loss: 0.0012 - val_loss: 2.0197e-04\n",
      "Epoch 90/100\n",
      "13/13 [==============================] - 1s 57ms/step - loss: 0.0013 - val_loss: 1.2401e-04\n",
      "Epoch 91/100\n",
      "13/13 [==============================] - 1s 57ms/step - loss: 0.0013 - val_loss: 1.3703e-04\n",
      "Epoch 92/100\n",
      "13/13 [==============================] - 1s 57ms/step - loss: 0.0010 - val_loss: 2.2753e-04\n",
      "Epoch 93/100\n",
      "13/13 [==============================] - 1s 57ms/step - loss: 0.0011 - val_loss: 1.3018e-04\n",
      "Epoch 94/100\n",
      "13/13 [==============================] - 1s 57ms/step - loss: 9.3793e-04 - val_loss: 1.2536e-04\n",
      "Epoch 95/100\n",
      "13/13 [==============================] - 1s 57ms/step - loss: 0.0020 - val_loss: 1.0885e-04\n",
      "Epoch 96/100\n",
      "13/13 [==============================] - 1s 57ms/step - loss: 0.0022 - val_loss: 1.3954e-04\n",
      "Epoch 97/100\n",
      "13/13 [==============================] - 1s 58ms/step - loss: 0.0013 - val_loss: 1.5979e-04\n",
      "Epoch 98/100\n",
      "13/13 [==============================] - 1s 57ms/step - loss: 0.0014 - val_loss: 1.3009e-04\n",
      "Epoch 99/100\n",
      "13/13 [==============================] - 1s 58ms/step - loss: 0.0014 - val_loss: 2.1058e-04\n",
      "Epoch 100/100\n",
      "13/13 [==============================] - 1s 58ms/step - loss: 0.0013 - val_loss: 1.7372e-04\n"
     ]
    },
    {
     "data": {
      "text/plain": [
       "<keras.src.callbacks.History at 0x1894bec32b0>"
      ]
     },
     "execution_count": 30,
     "metadata": {},
     "output_type": "execute_result"
    }
   ],
   "source": [
    "model.fit(x_train,y_train, validation_data=(x_test,y_test),epochs=100,batch_size=64,verbose=1)"
   ]
  },
  {
   "cell_type": "code",
   "execution_count": 31,
   "id": "52971035",
   "metadata": {},
   "outputs": [],
   "source": [
    "import tensorflow as tf"
   ]
  },
  {
   "cell_type": "code",
   "execution_count": 32,
   "id": "bf8fd50e",
   "metadata": {},
   "outputs": [
    {
     "data": {
      "text/plain": [
       "'2.15.0'"
      ]
     },
     "execution_count": 32,
     "metadata": {},
     "output_type": "execute_result"
    }
   ],
   "source": [
    "tf.__version__"
   ]
  },
  {
   "cell_type": "code",
   "execution_count": 33,
   "id": "6229eaeb",
   "metadata": {},
   "outputs": [
    {
     "name": "stdout",
     "output_type": "stream",
     "text": [
      "25/25 [==============================] - 1s 13ms/step\n",
      "9/9 [==============================] - 0s 14ms/step\n"
     ]
    }
   ],
   "source": [
    "##prediction and checking performance metrics\n",
    "train_predict = model.predict(x_train)\n",
    "test_predict = model.predict(x_test)"
   ]
  },
  {
   "cell_type": "code",
   "execution_count": 34,
   "id": "d462a3c8",
   "metadata": {},
   "outputs": [],
   "source": [
    "#transform back to original form\n",
    "train_predict = scaler.inverse_transform(train_predict)\n",
    "test_predict = scaler.inverse_transform(test_predict)"
   ]
  },
  {
   "cell_type": "code",
   "execution_count": 35,
   "id": "c8b67ae5",
   "metadata": {},
   "outputs": [
    {
     "data": {
      "text/plain": [
       "208.85498496408724"
      ]
     },
     "execution_count": 35,
     "metadata": {},
     "output_type": "execute_result"
    }
   ],
   "source": [
    "##calculate RMSE performance meetrics\n",
    "import math\n",
    "from sklearn.metrics import mean_squared_error\n",
    "math.sqrt(mean_squared_error(y_train,train_predict))"
   ]
  },
  {
   "cell_type": "code",
   "execution_count": 36,
   "id": "a2f23da8",
   "metadata": {},
   "outputs": [
    {
     "data": {
      "text/plain": [
       "174.2215155303479"
      ]
     },
     "execution_count": 36,
     "metadata": {},
     "output_type": "execute_result"
    }
   ],
   "source": [
    "##test data RMSE\n",
    "math.sqrt(mean_squared_error(y_test,test_predict))"
   ]
  },
  {
   "cell_type": "code",
   "execution_count": 37,
   "id": "a5876f25",
   "metadata": {},
   "outputs": [
    {
     "data": {
      "image/png": "[encoded data removed]",
      "text/plain": [
       "<Figure size 640x480 with 1 Axes>"
      ]
     },
     "metadata": {},
     "output_type": "display_data"
    }
   ],
   "source": [
    "##plotting \n",
    "#shift train predictions for plotting\n",
    "look_back=100\n",
    "trainPredictPlot = numpy.empty_like(df1)\n",
    "trainPredictPlot[:, :] = np.nan\n",
    "trainPredictPlot[look_back: len(train_predict)+look_back, :] = train_predict\n",
    "\n",
    "#shift test predicitions for plotting\n",
    "testPredictPlot = numpy.empty_like(df1)\n",
    "testPredictPlot[:, :] = np.nan\n",
    "testPredictPlot[len(train_predict)+(look_back*2)+1:len(df1)-1,:] = test_predict\n",
    "\n",
    "\n",
    "# plot baseline and predictions\n",
    "plt.plot(scaler.inverse_transform(df1))\n",
    "plt.plot(trainPredictPlot)\n",
    "plt.plot(testPredictPlot)\n",
    "plt.show()"
   ]
  },
  {
   "cell_type": "code",
   "execution_count": 38,
   "id": "afe383af",
   "metadata": {},
   "outputs": [
    {
     "data": {
      "text/plain": [
       "378"
      ]
     },
     "execution_count": 38,
     "metadata": {},
     "output_type": "execute_result"
    }
   ],
   "source": [
    "len(test_data)"
   ]
  },
  {
   "cell_type": "code",
   "execution_count": 39,
   "id": "8fd0f105",
   "metadata": {},
   "outputs": [
    {
     "data": {
      "text/plain": [
       "(1, 100)"
      ]
     },
     "execution_count": 39,
     "metadata": {},
     "output_type": "execute_result"
    }
   ],
   "source": [
    "x_input = test_data[278:].reshape(1,-1)\n",
    "x_input.shape"
   ]
  },
  {
   "cell_type": "code",
   "execution_count": 40,
   "id": "ee10552c",
   "metadata": {},
   "outputs": [],
   "source": [
    "temp_input =list(x_input)\n",
    "temp_input = temp_input[0].tolist()"
   ]
  },
  {
   "cell_type": "code",
   "execution_count": 41,
   "id": "ff28ff2a",
   "metadata": {},
   "outputs": [
    {
     "name": "stdout",
     "output_type": "stream",
     "text": [
      "[0.16092546]\n",
      "101\n",
      "1 day input [0.1761052  0.17282405 0.17187226 0.16541014 0.16571071 0.16681277\n",
      " 0.16095178 0.15040701 0.15373826 0.15892298 0.16012523 0.16814026\n",
      " 0.17715717 0.17485285 0.18131497 0.18780213 0.19048215 0.1892799\n",
      " 0.19927364 0.19526612 0.20187852 0.2033062  0.20756418 0.20751409\n",
      " 0.21192235 0.20989355 0.2115717  0.2082154  0.20776456 0.20929242\n",
      " 0.20671259 0.20816531 0.21139637 0.20686287 0.21685661 0.21410144\n",
      " 0.2189856  0.22259236 0.21625548 0.22008766 0.22822793 0.22860363\n",
      " 0.2272511  0.22304321 0.22567314 0.22038823 0.22001252 0.21730745\n",
      " 0.21592987 0.21618034 0.21725736 0.21462743 0.19737007 0.19388854\n",
      " 0.18802755 0.18619912 0.19716969 0.19611772 0.19874765 0.19724483\n",
      " 0.19807138 0.19233563 0.18995617 0.20485911 0.21219787 0.21803381\n",
      " 0.22126487 0.21956168 0.21873513 0.21435191 0.21262367 0.20338134\n",
      " 0.19426425 0.2004258  0.19789606 0.20247965 0.20653726 0.20681277\n",
      " 0.20408265 0.20541014 0.20115216 0.19586725 0.19363807 0.19291171\n",
      " 0.18902943 0.18715091 0.18905448 0.1941891  0.18955542 0.18614903\n",
      " 0.18983093 0.18680025 0.1851221  0.18239198 0.17097057 0.15849718\n",
      " 0.15599249 0.15569192 0.16002505 0.16092546]\n",
      "1 day output [[0.15791894]]\n",
      "2 day input [0.17282405 0.17187226 0.16541014 0.16571071 0.16681277 0.16095178\n",
      " 0.15040701 0.15373826 0.15892298 0.16012523 0.16814026 0.17715717\n",
      " 0.17485285 0.18131497 0.18780213 0.19048215 0.1892799  0.19927364\n",
      " 0.19526612 0.20187852 0.2033062  0.20756418 0.20751409 0.21192235\n",
      " 0.20989355 0.2115717  0.2082154  0.20776456 0.20929242 0.20671259\n",
      " 0.20816531 0.21139637 0.20686287 0.21685661 0.21410144 0.2189856\n",
      " 0.22259236 0.21625548 0.22008766 0.22822793 0.22860363 0.2272511\n",
      " 0.22304321 0.22567314 0.22038823 0.22001252 0.21730745 0.21592987\n",
      " 0.21618034 0.21725736 0.21462743 0.19737007 0.19388854 0.18802755\n",
      " 0.18619912 0.19716969 0.19611772 0.19874765 0.19724483 0.19807138\n",
      " 0.19233563 0.18995617 0.20485911 0.21219787 0.21803381 0.22126487\n",
      " 0.21956168 0.21873513 0.21435191 0.21262367 0.20338134 0.19426425\n",
      " 0.2004258  0.19789606 0.20247965 0.20653726 0.20681277 0.20408265\n",
      " 0.20541014 0.20115216 0.19586725 0.19363807 0.19291171 0.18902943\n",
      " 0.18715091 0.18905448 0.1941891  0.18955542 0.18614903 0.18983093\n",
      " 0.18680025 0.1851221  0.18239198 0.17097057 0.15849718 0.15599249\n",
      " 0.15569192 0.16002505 0.16092546 0.15791894]\n",
      "2 day output [[0.15570071]]\n",
      "3 day input [0.17187226 0.16541014 0.16571071 0.16681277 0.16095178 0.15040701\n",
      " 0.15373826 0.15892298 0.16012523 0.16814026 0.17715717 0.17485285\n",
      " 0.18131497 0.18780213 0.19048215 0.1892799  0.19927364 0.19526612\n",
      " 0.20187852 0.2033062  0.20756418 0.20751409 0.21192235 0.20989355\n",
      " 0.2115717  0.2082154  0.20776456 0.20929242 0.20671259 0.20816531\n",
      " 0.21139637 0.20686287 0.21685661 0.21410144 0.2189856  0.22259236\n",
      " 0.21625548 0.22008766 0.22822793 0.22860363 0.2272511  0.22304321\n",
      " 0.22567314 0.22038823 0.22001252 0.21730745 0.21592987 0.21618034\n",
      " 0.21725736 0.21462743 0.19737007 0.19388854 0.18802755 0.18619912\n",
      " 0.19716969 0.19611772 0.19874765 0.19724483 0.19807138 0.19233563\n",
      " 0.18995617 0.20485911 0.21219787 0.21803381 0.22126487 0.21956168\n",
      " 0.21873513 0.21435191 0.21262367 0.20338134 0.19426425 0.2004258\n",
      " 0.19789606 0.20247965 0.20653726 0.20681277 0.20408265 0.20541014\n",
      " 0.20115216 0.19586725 0.19363807 0.19291171 0.18902943 0.18715091\n",
      " 0.18905448 0.1941891  0.18955542 0.18614903 0.18983093 0.18680025\n",
      " 0.1851221  0.18239198 0.17097057 0.15849718 0.15599249 0.15569192\n",
      " 0.16002505 0.16092546 0.15791894 0.15570071]\n",
      "3 day output [[0.15394136]]\n",
      "4 day input [0.16541014 0.16571071 0.16681277 0.16095178 0.15040701 0.15373826\n",
      " 0.15892298 0.16012523 0.16814026 0.17715717 0.17485285 0.18131497\n",
      " 0.18780213 0.19048215 0.1892799  0.19927364 0.19526612 0.20187852\n",
      " 0.2033062  0.20756418 0.20751409 0.21192235 0.20989355 0.2115717\n",
      " 0.2082154  0.20776456 0.20929242 0.20671259 0.20816531 0.21139637\n",
      " 0.20686287 0.21685661 0.21410144 0.2189856  0.22259236 0.21625548\n",
      " 0.22008766 0.22822793 0.22860363 0.2272511  0.22304321 0.22567314\n",
      " 0.22038823 0.22001252 0.21730745 0.21592987 0.21618034 0.21725736\n",
      " 0.21462743 0.19737007 0.19388854 0.18802755 0.18619912 0.19716969\n",
      " 0.19611772 0.19874765 0.19724483 0.19807138 0.19233563 0.18995617\n",
      " 0.20485911 0.21219787 0.21803381 0.22126487 0.21956168 0.21873513\n",
      " 0.21435191 0.21262367 0.20338134 0.19426425 0.2004258  0.19789606\n",
      " 0.20247965 0.20653726 0.20681277 0.20408265 0.20541014 0.20115216\n",
      " 0.19586725 0.19363807 0.19291171 0.18902943 0.18715091 0.18905448\n",
      " 0.1941891  0.18955542 0.18614903 0.18983093 0.18680025 0.1851221\n",
      " 0.18239198 0.17097057 0.15849718 0.15599249 0.15569192 0.16002505\n",
      " 0.16092546 0.15791894 0.15570071 0.15394136]\n",
      "4 day output [[0.1524126]]\n",
      "5 day input [0.16571071 0.16681277 0.16095178 0.15040701 0.15373826 0.15892298\n",
      " 0.16012523 0.16814026 0.17715717 0.17485285 0.18131497 0.18780213\n",
      " 0.19048215 0.1892799  0.19927364 0.19526612 0.20187852 0.2033062\n",
      " 0.20756418 0.20751409 0.21192235 0.20989355 0.2115717  0.2082154\n",
      " 0.20776456 0.20929242 0.20671259 0.20816531 0.21139637 0.20686287\n",
      " 0.21685661 0.21410144 0.2189856  0.22259236 0.21625548 0.22008766\n",
      " 0.22822793 0.22860363 0.2272511  0.22304321 0.22567314 0.22038823\n",
      " 0.22001252 0.21730745 0.21592987 0.21618034 0.21725736 0.21462743\n",
      " 0.19737007 0.19388854 0.18802755 0.18619912 0.19716969 0.19611772\n",
      " 0.19874765 0.19724483 0.19807138 0.19233563 0.18995617 0.20485911\n",
      " 0.21219787 0.21803381 0.22126487 0.21956168 0.21873513 0.21435191\n",
      " 0.21262367 0.20338134 0.19426425 0.2004258  0.19789606 0.20247965\n",
      " 0.20653726 0.20681277 0.20408265 0.20541014 0.20115216 0.19586725\n",
      " 0.19363807 0.19291171 0.18902943 0.18715091 0.18905448 0.1941891\n",
      " 0.18955542 0.18614903 0.18983093 0.18680025 0.1851221  0.18239198\n",
      " 0.17097057 0.15849718 0.15599249 0.15569192 0.16002505 0.16092546\n",
      " 0.15791894 0.15570071 0.15394136 0.15241259]\n",
      "5 day output [[0.15098585]]\n",
      "6 day input [0.16681277 0.16095178 0.15040701 0.15373826 0.15892298 0.16012523\n",
      " 0.16814026 0.17715717 0.17485285 0.18131497 0.18780213 0.19048215\n",
      " 0.1892799  0.19927364 0.19526612 0.20187852 0.2033062  0.20756418\n",
      " 0.20751409 0.21192235 0.20989355 0.2115717  0.2082154  0.20776456\n",
      " 0.20929242 0.20671259 0.20816531 0.21139637 0.20686287 0.21685661\n",
      " 0.21410144 0.2189856  0.22259236 0.21625548 0.22008766 0.22822793\n",
      " 0.22860363 0.2272511  0.22304321 0.22567314 0.22038823 0.22001252\n",
      " 0.21730745 0.21592987 0.21618034 0.21725736 0.21462743 0.19737007\n",
      " 0.19388854 0.18802755 0.18619912 0.19716969 0.19611772 0.19874765\n",
      " 0.19724483 0.19807138 0.19233563 0.18995617 0.20485911 0.21219787\n",
      " 0.21803381 0.22126487 0.21956168 0.21873513 0.21435191 0.21262367\n",
      " 0.20338134 0.19426425 0.2004258  0.19789606 0.20247965 0.20653726\n",
      " 0.20681277 0.20408265 0.20541014 0.20115216 0.19586725 0.19363807\n",
      " 0.19291171 0.18902943 0.18715091 0.18905448 0.1941891  0.18955542\n",
      " 0.18614903 0.18983093 0.18680025 0.1851221  0.18239198 0.17097057\n",
      " 0.15849718 0.15599249 0.15569192 0.16002505 0.16092546 0.15791894\n",
      " 0.15570071 0.15394136 0.15241259 0.15098585]\n",
      "6 day output [[0.14959958]]\n",
      "7 day input [0.16095178 0.15040701 0.15373826 0.15892298 0.16012523 0.16814026\n",
      " 0.17715717 0.17485285 0.18131497 0.18780213 0.19048215 0.1892799\n",
      " 0.19927364 0.19526612 0.20187852 0.2033062  0.20756418 0.20751409\n",
      " 0.21192235 0.20989355 0.2115717  0.2082154  0.20776456 0.20929242\n",
      " 0.20671259 0.20816531 0.21139637 0.20686287 0.21685661 0.21410144\n",
      " 0.2189856  0.22259236 0.21625548 0.22008766 0.22822793 0.22860363\n",
      " 0.2272511  0.22304321 0.22567314 0.22038823 0.22001252 0.21730745\n",
      " 0.21592987 0.21618034 0.21725736 0.21462743 0.19737007 0.19388854\n",
      " 0.18802755 0.18619912 0.19716969 0.19611772 0.19874765 0.19724483\n",
      " 0.19807138 0.19233563 0.18995617 0.20485911 0.21219787 0.21803381\n",
      " 0.22126487 0.21956168 0.21873513 0.21435191 0.21262367 0.20338134\n",
      " 0.19426425 0.2004258  0.19789606 0.20247965 0.20653726 0.20681277\n",
      " 0.20408265 0.20541014 0.20115216 0.19586725 0.19363807 0.19291171\n",
      " 0.18902943 0.18715091 0.18905448 0.1941891  0.18955542 0.18614903\n",
      " 0.18983093 0.18680025 0.1851221  0.18239198 0.17097057 0.15849718\n",
      " 0.15599249 0.15569192 0.16002505 0.16092546 0.15791894 0.15570071\n",
      " 0.15394136 0.15241259 0.15098585 0.14959958]\n",
      "7 day output [[0.14822957]]\n",
      "8 day input [0.15040701 0.15373826 0.15892298 0.16012523 0.16814026 0.17715717\n",
      " 0.17485285 0.18131497 0.18780213 0.19048215 0.1892799  0.19927364\n",
      " 0.19526612 0.20187852 0.2033062  0.20756418 0.20751409 0.21192235\n",
      " 0.20989355 0.2115717  0.2082154  0.20776456 0.20929242 0.20671259\n",
      " 0.20816531 0.21139637 0.20686287 0.21685661 0.21410144 0.2189856\n",
      " 0.22259236 0.21625548 0.22008766 0.22822793 0.22860363 0.2272511\n",
      " 0.22304321 0.22567314 0.22038823 0.22001252 0.21730745 0.21592987\n",
      " 0.21618034 0.21725736 0.21462743 0.19737007 0.19388854 0.18802755\n",
      " 0.18619912 0.19716969 0.19611772 0.19874765 0.19724483 0.19807138\n",
      " 0.19233563 0.18995617 0.20485911 0.21219787 0.21803381 0.22126487\n",
      " 0.21956168 0.21873513 0.21435191 0.21262367 0.20338134 0.19426425\n",
      " 0.2004258  0.19789606 0.20247965 0.20653726 0.20681277 0.20408265\n",
      " 0.20541014 0.20115216 0.19586725 0.19363807 0.19291171 0.18902943\n",
      " 0.18715091 0.18905448 0.1941891  0.18955542 0.18614903 0.18983093\n",
      " 0.18680025 0.1851221  0.18239198 0.17097057 0.15849718 0.15599249\n",
      " 0.15569192 0.16002505 0.16092546 0.15791894 0.15570071 0.15394136\n",
      " 0.15241259 0.15098585 0.14959958 0.14822957]\n",
      "8 day output [[0.14686967]]\n",
      "9 day input [0.15373826 0.15892298 0.16012523 0.16814026 0.17715717 0.17485285\n",
      " 0.18131497 0.18780213 0.19048215 0.1892799  0.19927364 0.19526612\n",
      " 0.20187852 0.2033062  0.20756418 0.20751409 0.21192235 0.20989355\n",
      " 0.2115717  0.2082154  0.20776456 0.20929242 0.20671259 0.20816531\n",
      " 0.21139637 0.20686287 0.21685661 0.21410144 0.2189856  0.22259236\n",
      " 0.21625548 0.22008766 0.22822793 0.22860363 0.2272511  0.22304321\n",
      " 0.22567314 0.22038823 0.22001252 0.21730745 0.21592987 0.21618034\n",
      " 0.21725736 0.21462743 0.19737007 0.19388854 0.18802755 0.18619912\n",
      " 0.19716969 0.19611772 0.19874765 0.19724483 0.19807138 0.19233563\n",
      " 0.18995617 0.20485911 0.21219787 0.21803381 0.22126487 0.21956168\n",
      " 0.21873513 0.21435191 0.21262367 0.20338134 0.19426425 0.2004258\n",
      " 0.19789606 0.20247965 0.20653726 0.20681277 0.20408265 0.20541014\n",
      " 0.20115216 0.19586725 0.19363807 0.19291171 0.18902943 0.18715091\n",
      " 0.18905448 0.1941891  0.18955542 0.18614903 0.18983093 0.18680025\n",
      " 0.1851221  0.18239198 0.17097057 0.15849718 0.15599249 0.15569192\n",
      " 0.16002505 0.16092546 0.15791894 0.15570071 0.15394136 0.15241259\n",
      " 0.15098585 0.14959958 0.14822957 0.14686967]\n",
      "9 day output [[0.14552118]]\n",
      "10 day input [0.15892298 0.16012523 0.16814026 0.17715717 0.17485285 0.18131497\n",
      " 0.18780213 0.19048215 0.1892799  0.19927364 0.19526612 0.20187852\n",
      " 0.2033062  0.20756418 0.20751409 0.21192235 0.20989355 0.2115717\n",
      " 0.2082154  0.20776456 0.20929242 0.20671259 0.20816531 0.21139637\n",
      " 0.20686287 0.21685661 0.21410144 0.2189856  0.22259236 0.21625548\n",
      " 0.22008766 0.22822793 0.22860363 0.2272511  0.22304321 0.22567314\n",
      " 0.22038823 0.22001252 0.21730745 0.21592987 0.21618034 0.21725736\n",
      " 0.21462743 0.19737007 0.19388854 0.18802755 0.18619912 0.19716969\n",
      " 0.19611772 0.19874765 0.19724483 0.19807138 0.19233563 0.18995617\n",
      " 0.20485911 0.21219787 0.21803381 0.22126487 0.21956168 0.21873513\n",
      " 0.21435191 0.21262367 0.20338134 0.19426425 0.2004258  0.19789606\n",
      " 0.20247965 0.20653726 0.20681277 0.20408265 0.20541014 0.20115216\n",
      " 0.19586725 0.19363807 0.19291171 0.18902943 0.18715091 0.18905448\n",
      " 0.1941891  0.18955542 0.18614903 0.18983093 0.18680025 0.1851221\n",
      " 0.18239198 0.17097057 0.15849718 0.15599249 0.15569192 0.16002505\n",
      " 0.16092546 0.15791894 0.15570071 0.15394136 0.15241259 0.15098585\n",
      " 0.14959958 0.14822957 0.14686967 0.14552118]\n"
     ]
    },
    {
     "name": "stdout",
     "output_type": "stream",
     "text": [
      "10 day output [[0.14418751]]\n",
      "11 day input [0.16012523 0.16814026 0.17715717 0.17485285 0.18131497 0.18780213\n",
      " 0.19048215 0.1892799  0.19927364 0.19526612 0.20187852 0.2033062\n",
      " 0.20756418 0.20751409 0.21192235 0.20989355 0.2115717  0.2082154\n",
      " 0.20776456 0.20929242 0.20671259 0.20816531 0.21139637 0.20686287\n",
      " 0.21685661 0.21410144 0.2189856  0.22259236 0.21625548 0.22008766\n",
      " 0.22822793 0.22860363 0.2272511  0.22304321 0.22567314 0.22038823\n",
      " 0.22001252 0.21730745 0.21592987 0.21618034 0.21725736 0.21462743\n",
      " 0.19737007 0.19388854 0.18802755 0.18619912 0.19716969 0.19611772\n",
      " 0.19874765 0.19724483 0.19807138 0.19233563 0.18995617 0.20485911\n",
      " 0.21219787 0.21803381 0.22126487 0.21956168 0.21873513 0.21435191\n",
      " 0.21262367 0.20338134 0.19426425 0.2004258  0.19789606 0.20247965\n",
      " 0.20653726 0.20681277 0.20408265 0.20541014 0.20115216 0.19586725\n",
      " 0.19363807 0.19291171 0.18902943 0.18715091 0.18905448 0.1941891\n",
      " 0.18955542 0.18614903 0.18983093 0.18680025 0.1851221  0.18239198\n",
      " 0.17097057 0.15849718 0.15599249 0.15569192 0.16002505 0.16092546\n",
      " 0.15791894 0.15570071 0.15394136 0.15241259 0.15098585 0.14959958\n",
      " 0.14822957 0.14686967 0.14552118 0.14418751]\n",
      "11 day output [[0.14287208]]\n",
      "12 day input [0.16814026 0.17715717 0.17485285 0.18131497 0.18780213 0.19048215\n",
      " 0.1892799  0.19927364 0.19526612 0.20187852 0.2033062  0.20756418\n",
      " 0.20751409 0.21192235 0.20989355 0.2115717  0.2082154  0.20776456\n",
      " 0.20929242 0.20671259 0.20816531 0.21139637 0.20686287 0.21685661\n",
      " 0.21410144 0.2189856  0.22259236 0.21625548 0.22008766 0.22822793\n",
      " 0.22860363 0.2272511  0.22304321 0.22567314 0.22038823 0.22001252\n",
      " 0.21730745 0.21592987 0.21618034 0.21725736 0.21462743 0.19737007\n",
      " 0.19388854 0.18802755 0.18619912 0.19716969 0.19611772 0.19874765\n",
      " 0.19724483 0.19807138 0.19233563 0.18995617 0.20485911 0.21219787\n",
      " 0.21803381 0.22126487 0.21956168 0.21873513 0.21435191 0.21262367\n",
      " 0.20338134 0.19426425 0.2004258  0.19789606 0.20247965 0.20653726\n",
      " 0.20681277 0.20408265 0.20541014 0.20115216 0.19586725 0.19363807\n",
      " 0.19291171 0.18902943 0.18715091 0.18905448 0.1941891  0.18955542\n",
      " 0.18614903 0.18983093 0.18680025 0.1851221  0.18239198 0.17097057\n",
      " 0.15849718 0.15599249 0.15569192 0.16002505 0.16092546 0.15791894\n",
      " 0.15570071 0.15394136 0.15241259 0.15098585 0.14959958 0.14822957\n",
      " 0.14686967 0.14552118 0.14418751 0.14287208]\n",
      "12 day output [[0.14157744]]\n",
      "13 day input [0.17715717 0.17485285 0.18131497 0.18780213 0.19048215 0.1892799\n",
      " 0.19927364 0.19526612 0.20187852 0.2033062  0.20756418 0.20751409\n",
      " 0.21192235 0.20989355 0.2115717  0.2082154  0.20776456 0.20929242\n",
      " 0.20671259 0.20816531 0.21139637 0.20686287 0.21685661 0.21410144\n",
      " 0.2189856  0.22259236 0.21625548 0.22008766 0.22822793 0.22860363\n",
      " 0.2272511  0.22304321 0.22567314 0.22038823 0.22001252 0.21730745\n",
      " 0.21592987 0.21618034 0.21725736 0.21462743 0.19737007 0.19388854\n",
      " 0.18802755 0.18619912 0.19716969 0.19611772 0.19874765 0.19724483\n",
      " 0.19807138 0.19233563 0.18995617 0.20485911 0.21219787 0.21803381\n",
      " 0.22126487 0.21956168 0.21873513 0.21435191 0.21262367 0.20338134\n",
      " 0.19426425 0.2004258  0.19789606 0.20247965 0.20653726 0.20681277\n",
      " 0.20408265 0.20541014 0.20115216 0.19586725 0.19363807 0.19291171\n",
      " 0.18902943 0.18715091 0.18905448 0.1941891  0.18955542 0.18614903\n",
      " 0.18983093 0.18680025 0.1851221  0.18239198 0.17097057 0.15849718\n",
      " 0.15599249 0.15569192 0.16002505 0.16092546 0.15791894 0.15570071\n",
      " 0.15394136 0.15241259 0.15098585 0.14959958 0.14822957 0.14686967\n",
      " 0.14552118 0.14418751 0.14287208 0.14157744]\n",
      "13 day output [[0.14030486]]\n",
      "14 day input [0.17485285 0.18131497 0.18780213 0.19048215 0.1892799  0.19927364\n",
      " 0.19526612 0.20187852 0.2033062  0.20756418 0.20751409 0.21192235\n",
      " 0.20989355 0.2115717  0.2082154  0.20776456 0.20929242 0.20671259\n",
      " 0.20816531 0.21139637 0.20686287 0.21685661 0.21410144 0.2189856\n",
      " 0.22259236 0.21625548 0.22008766 0.22822793 0.22860363 0.2272511\n",
      " 0.22304321 0.22567314 0.22038823 0.22001252 0.21730745 0.21592987\n",
      " 0.21618034 0.21725736 0.21462743 0.19737007 0.19388854 0.18802755\n",
      " 0.18619912 0.19716969 0.19611772 0.19874765 0.19724483 0.19807138\n",
      " 0.19233563 0.18995617 0.20485911 0.21219787 0.21803381 0.22126487\n",
      " 0.21956168 0.21873513 0.21435191 0.21262367 0.20338134 0.19426425\n",
      " 0.2004258  0.19789606 0.20247965 0.20653726 0.20681277 0.20408265\n",
      " 0.20541014 0.20115216 0.19586725 0.19363807 0.19291171 0.18902943\n",
      " 0.18715091 0.18905448 0.1941891  0.18955542 0.18614903 0.18983093\n",
      " 0.18680025 0.1851221  0.18239198 0.17097057 0.15849718 0.15599249\n",
      " 0.15569192 0.16002505 0.16092546 0.15791894 0.15570071 0.15394136\n",
      " 0.15241259 0.15098585 0.14959958 0.14822957 0.14686967 0.14552118\n",
      " 0.14418751 0.14287208 0.14157744 0.14030486]\n",
      "14 day output [[0.13905463]]\n",
      "15 day input [0.18131497 0.18780213 0.19048215 0.1892799  0.19927364 0.19526612\n",
      " 0.20187852 0.2033062  0.20756418 0.20751409 0.21192235 0.20989355\n",
      " 0.2115717  0.2082154  0.20776456 0.20929242 0.20671259 0.20816531\n",
      " 0.21139637 0.20686287 0.21685661 0.21410144 0.2189856  0.22259236\n",
      " 0.21625548 0.22008766 0.22822793 0.22860363 0.2272511  0.22304321\n",
      " 0.22567314 0.22038823 0.22001252 0.21730745 0.21592987 0.21618034\n",
      " 0.21725736 0.21462743 0.19737007 0.19388854 0.18802755 0.18619912\n",
      " 0.19716969 0.19611772 0.19874765 0.19724483 0.19807138 0.19233563\n",
      " 0.18995617 0.20485911 0.21219787 0.21803381 0.22126487 0.21956168\n",
      " 0.21873513 0.21435191 0.21262367 0.20338134 0.19426425 0.2004258\n",
      " 0.19789606 0.20247965 0.20653726 0.20681277 0.20408265 0.20541014\n",
      " 0.20115216 0.19586725 0.19363807 0.19291171 0.18902943 0.18715091\n",
      " 0.18905448 0.1941891  0.18955542 0.18614903 0.18983093 0.18680025\n",
      " 0.1851221  0.18239198 0.17097057 0.15849718 0.15599249 0.15569192\n",
      " 0.16002505 0.16092546 0.15791894 0.15570071 0.15394136 0.15241259\n",
      " 0.15098585 0.14959958 0.14822957 0.14686967 0.14552118 0.14418751\n",
      " 0.14287208 0.14157744 0.14030486 0.13905463]\n",
      "15 day output [[0.13782594]]\n",
      "16 day input [0.18780213 0.19048215 0.1892799  0.19927364 0.19526612 0.20187852\n",
      " 0.2033062  0.20756418 0.20751409 0.21192235 0.20989355 0.2115717\n",
      " 0.2082154  0.20776456 0.20929242 0.20671259 0.20816531 0.21139637\n",
      " 0.20686287 0.21685661 0.21410144 0.2189856  0.22259236 0.21625548\n",
      " 0.22008766 0.22822793 0.22860363 0.2272511  0.22304321 0.22567314\n",
      " 0.22038823 0.22001252 0.21730745 0.21592987 0.21618034 0.21725736\n",
      " 0.21462743 0.19737007 0.19388854 0.18802755 0.18619912 0.19716969\n",
      " 0.19611772 0.19874765 0.19724483 0.19807138 0.19233563 0.18995617\n",
      " 0.20485911 0.21219787 0.21803381 0.22126487 0.21956168 0.21873513\n",
      " 0.21435191 0.21262367 0.20338134 0.19426425 0.2004258  0.19789606\n",
      " 0.20247965 0.20653726 0.20681277 0.20408265 0.20541014 0.20115216\n",
      " 0.19586725 0.19363807 0.19291171 0.18902943 0.18715091 0.18905448\n",
      " 0.1941891  0.18955542 0.18614903 0.18983093 0.18680025 0.1851221\n",
      " 0.18239198 0.17097057 0.15849718 0.15599249 0.15569192 0.16002505\n",
      " 0.16092546 0.15791894 0.15570071 0.15394136 0.15241259 0.15098585\n",
      " 0.14959958 0.14822957 0.14686967 0.14552118 0.14418751 0.14287208\n",
      " 0.14157744 0.14030486 0.13905463 0.13782594]\n",
      "16 day output [[0.1366173]]\n",
      "17 day input [0.19048215 0.1892799  0.19927364 0.19526612 0.20187852 0.2033062\n",
      " 0.20756418 0.20751409 0.21192235 0.20989355 0.2115717  0.2082154\n",
      " 0.20776456 0.20929242 0.20671259 0.20816531 0.21139637 0.20686287\n",
      " 0.21685661 0.21410144 0.2189856  0.22259236 0.21625548 0.22008766\n",
      " 0.22822793 0.22860363 0.2272511  0.22304321 0.22567314 0.22038823\n",
      " 0.22001252 0.21730745 0.21592987 0.21618034 0.21725736 0.21462743\n",
      " 0.19737007 0.19388854 0.18802755 0.18619912 0.19716969 0.19611772\n",
      " 0.19874765 0.19724483 0.19807138 0.19233563 0.18995617 0.20485911\n",
      " 0.21219787 0.21803381 0.22126487 0.21956168 0.21873513 0.21435191\n",
      " 0.21262367 0.20338134 0.19426425 0.2004258  0.19789606 0.20247965\n",
      " 0.20653726 0.20681277 0.20408265 0.20541014 0.20115216 0.19586725\n",
      " 0.19363807 0.19291171 0.18902943 0.18715091 0.18905448 0.1941891\n",
      " 0.18955542 0.18614903 0.18983093 0.18680025 0.1851221  0.18239198\n",
      " 0.17097057 0.15849718 0.15599249 0.15569192 0.16002505 0.16092546\n",
      " 0.15791894 0.15570071 0.15394136 0.15241259 0.15098585 0.14959958\n",
      " 0.14822957 0.14686967 0.14552118 0.14418751 0.14287208 0.14157744\n",
      " 0.14030486 0.13905463 0.13782594 0.1366173 ]\n",
      "17 day output [[0.13542664]]\n",
      "18 day input [0.1892799  0.19927364 0.19526612 0.20187852 0.2033062  0.20756418\n",
      " 0.20751409 0.21192235 0.20989355 0.2115717  0.2082154  0.20776456\n",
      " 0.20929242 0.20671259 0.20816531 0.21139637 0.20686287 0.21685661\n",
      " 0.21410144 0.2189856  0.22259236 0.21625548 0.22008766 0.22822793\n",
      " 0.22860363 0.2272511  0.22304321 0.22567314 0.22038823 0.22001252\n",
      " 0.21730745 0.21592987 0.21618034 0.21725736 0.21462743 0.19737007\n",
      " 0.19388854 0.18802755 0.18619912 0.19716969 0.19611772 0.19874765\n",
      " 0.19724483 0.19807138 0.19233563 0.18995617 0.20485911 0.21219787\n",
      " 0.21803381 0.22126487 0.21956168 0.21873513 0.21435191 0.21262367\n",
      " 0.20338134 0.19426425 0.2004258  0.19789606 0.20247965 0.20653726\n",
      " 0.20681277 0.20408265 0.20541014 0.20115216 0.19586725 0.19363807\n",
      " 0.19291171 0.18902943 0.18715091 0.18905448 0.1941891  0.18955542\n",
      " 0.18614903 0.18983093 0.18680025 0.1851221  0.18239198 0.17097057\n",
      " 0.15849718 0.15599249 0.15569192 0.16002505 0.16092546 0.15791894\n",
      " 0.15570071 0.15394136 0.15241259 0.15098585 0.14959958 0.14822957\n",
      " 0.14686967 0.14552118 0.14418751 0.14287208 0.14157744 0.14030486\n",
      " 0.13905463 0.13782594 0.1366173  0.13542664]\n",
      "18 day output [[0.13425173]]\n",
      "19 day input [0.19927364 0.19526612 0.20187852 0.2033062  0.20756418 0.20751409\n",
      " 0.21192235 0.20989355 0.2115717  0.2082154  0.20776456 0.20929242\n",
      " 0.20671259 0.20816531 0.21139637 0.20686287 0.21685661 0.21410144\n",
      " 0.2189856  0.22259236 0.21625548 0.22008766 0.22822793 0.22860363\n",
      " 0.2272511  0.22304321 0.22567314 0.22038823 0.22001252 0.21730745\n",
      " 0.21592987 0.21618034 0.21725736 0.21462743 0.19737007 0.19388854\n",
      " 0.18802755 0.18619912 0.19716969 0.19611772 0.19874765 0.19724483\n",
      " 0.19807138 0.19233563 0.18995617 0.20485911 0.21219787 0.21803381\n",
      " 0.22126487 0.21956168 0.21873513 0.21435191 0.21262367 0.20338134\n",
      " 0.19426425 0.2004258  0.19789606 0.20247965 0.20653726 0.20681277\n",
      " 0.20408265 0.20541014 0.20115216 0.19586725 0.19363807 0.19291171\n",
      " 0.18902943 0.18715091 0.18905448 0.1941891  0.18955542 0.18614903\n",
      " 0.18983093 0.18680025 0.1851221  0.18239198 0.17097057 0.15849718\n",
      " 0.15599249 0.15569192 0.16002505 0.16092546 0.15791894 0.15570071\n",
      " 0.15394136 0.15241259 0.15098585 0.14959958 0.14822957 0.14686967\n",
      " 0.14552118 0.14418751 0.14287208 0.14157744 0.14030486 0.13905463\n",
      " 0.13782594 0.1366173  0.13542664 0.13425173]\n",
      "19 day output [[0.13309035]]\n",
      "20 day input [0.19526612 0.20187852 0.2033062  0.20756418 0.20751409 0.21192235\n",
      " 0.20989355 0.2115717  0.2082154  0.20776456 0.20929242 0.20671259\n",
      " 0.20816531 0.21139637 0.20686287 0.21685661 0.21410144 0.2189856\n",
      " 0.22259236 0.21625548 0.22008766 0.22822793 0.22860363 0.2272511\n",
      " 0.22304321 0.22567314 0.22038823 0.22001252 0.21730745 0.21592987\n",
      " 0.21618034 0.21725736 0.21462743 0.19737007 0.19388854 0.18802755\n",
      " 0.18619912 0.19716969 0.19611772 0.19874765 0.19724483 0.19807138\n",
      " 0.19233563 0.18995617 0.20485911 0.21219787 0.21803381 0.22126487\n",
      " 0.21956168 0.21873513 0.21435191 0.21262367 0.20338134 0.19426425\n",
      " 0.2004258  0.19789606 0.20247965 0.20653726 0.20681277 0.20408265\n",
      " 0.20541014 0.20115216 0.19586725 0.19363807 0.19291171 0.18902943\n",
      " 0.18715091 0.18905448 0.1941891  0.18955542 0.18614903 0.18983093\n",
      " 0.18680025 0.1851221  0.18239198 0.17097057 0.15849718 0.15599249\n",
      " 0.15569192 0.16002505 0.16092546 0.15791894 0.15570071 0.15394136\n",
      " 0.15241259 0.15098585 0.14959958 0.14822957 0.14686967 0.14552118\n",
      " 0.14418751 0.14287208 0.14157744 0.14030486 0.13905463 0.13782594\n",
      " 0.1366173  0.13542664 0.13425173 0.13309035]\n"
     ]
    },
    {
     "name": "stdout",
     "output_type": "stream",
     "text": [
      "20 day output [[0.13194041]]\n",
      "21 day input [0.20187852 0.2033062  0.20756418 0.20751409 0.21192235 0.20989355\n",
      " 0.2115717  0.2082154  0.20776456 0.20929242 0.20671259 0.20816531\n",
      " 0.21139637 0.20686287 0.21685661 0.21410144 0.2189856  0.22259236\n",
      " 0.21625548 0.22008766 0.22822793 0.22860363 0.2272511  0.22304321\n",
      " 0.22567314 0.22038823 0.22001252 0.21730745 0.21592987 0.21618034\n",
      " 0.21725736 0.21462743 0.19737007 0.19388854 0.18802755 0.18619912\n",
      " 0.19716969 0.19611772 0.19874765 0.19724483 0.19807138 0.19233563\n",
      " 0.18995617 0.20485911 0.21219787 0.21803381 0.22126487 0.21956168\n",
      " 0.21873513 0.21435191 0.21262367 0.20338134 0.19426425 0.2004258\n",
      " 0.19789606 0.20247965 0.20653726 0.20681277 0.20408265 0.20541014\n",
      " 0.20115216 0.19586725 0.19363807 0.19291171 0.18902943 0.18715091\n",
      " 0.18905448 0.1941891  0.18955542 0.18614903 0.18983093 0.18680025\n",
      " 0.1851221  0.18239198 0.17097057 0.15849718 0.15599249 0.15569192\n",
      " 0.16002505 0.16092546 0.15791894 0.15570071 0.15394136 0.15241259\n",
      " 0.15098585 0.14959958 0.14822957 0.14686967 0.14552118 0.14418751\n",
      " 0.14287208 0.14157744 0.14030486 0.13905463 0.13782594 0.1366173\n",
      " 0.13542664 0.13425173 0.13309035 0.13194041]\n",
      "21 day output [[0.13080032]]\n",
      "22 day input [0.2033062  0.20756418 0.20751409 0.21192235 0.20989355 0.2115717\n",
      " 0.2082154  0.20776456 0.20929242 0.20671259 0.20816531 0.21139637\n",
      " 0.20686287 0.21685661 0.21410144 0.2189856  0.22259236 0.21625548\n",
      " 0.22008766 0.22822793 0.22860363 0.2272511  0.22304321 0.22567314\n",
      " 0.22038823 0.22001252 0.21730745 0.21592987 0.21618034 0.21725736\n",
      " 0.21462743 0.19737007 0.19388854 0.18802755 0.18619912 0.19716969\n",
      " 0.19611772 0.19874765 0.19724483 0.19807138 0.19233563 0.18995617\n",
      " 0.20485911 0.21219787 0.21803381 0.22126487 0.21956168 0.21873513\n",
      " 0.21435191 0.21262367 0.20338134 0.19426425 0.2004258  0.19789606\n",
      " 0.20247965 0.20653726 0.20681277 0.20408265 0.20541014 0.20115216\n",
      " 0.19586725 0.19363807 0.19291171 0.18902943 0.18715091 0.18905448\n",
      " 0.1941891  0.18955542 0.18614903 0.18983093 0.18680025 0.1851221\n",
      " 0.18239198 0.17097057 0.15849718 0.15599249 0.15569192 0.16002505\n",
      " 0.16092546 0.15791894 0.15570071 0.15394136 0.15241259 0.15098585\n",
      " 0.14959958 0.14822957 0.14686967 0.14552118 0.14418751 0.14287208\n",
      " 0.14157744 0.14030486 0.13905463 0.13782594 0.1366173  0.13542664\n",
      " 0.13425173 0.13309035 0.13194041 0.13080032]\n",
      "22 day output [[0.12966888]]\n",
      "23 day input [0.20756418 0.20751409 0.21192235 0.20989355 0.2115717  0.2082154\n",
      " 0.20776456 0.20929242 0.20671259 0.20816531 0.21139637 0.20686287\n",
      " 0.21685661 0.21410144 0.2189856  0.22259236 0.21625548 0.22008766\n",
      " 0.22822793 0.22860363 0.2272511  0.22304321 0.22567314 0.22038823\n",
      " 0.22001252 0.21730745 0.21592987 0.21618034 0.21725736 0.21462743\n",
      " 0.19737007 0.19388854 0.18802755 0.18619912 0.19716969 0.19611772\n",
      " 0.19874765 0.19724483 0.19807138 0.19233563 0.18995617 0.20485911\n",
      " 0.21219787 0.21803381 0.22126487 0.21956168 0.21873513 0.21435191\n",
      " 0.21262367 0.20338134 0.19426425 0.2004258  0.19789606 0.20247965\n",
      " 0.20653726 0.20681277 0.20408265 0.20541014 0.20115216 0.19586725\n",
      " 0.19363807 0.19291171 0.18902943 0.18715091 0.18905448 0.1941891\n",
      " 0.18955542 0.18614903 0.18983093 0.18680025 0.1851221  0.18239198\n",
      " 0.17097057 0.15849718 0.15599249 0.15569192 0.16002505 0.16092546\n",
      " 0.15791894 0.15570071 0.15394136 0.15241259 0.15098585 0.14959958\n",
      " 0.14822957 0.14686967 0.14552118 0.14418751 0.14287208 0.14157744\n",
      " 0.14030486 0.13905463 0.13782594 0.1366173  0.13542664 0.13425173\n",
      " 0.13309035 0.13194041 0.13080032 0.12966888]\n",
      "23 day output [[0.12854543]]\n",
      "24 day input [0.20751409 0.21192235 0.20989355 0.2115717  0.2082154  0.20776456\n",
      " 0.20929242 0.20671259 0.20816531 0.21139637 0.20686287 0.21685661\n",
      " 0.21410144 0.2189856  0.22259236 0.21625548 0.22008766 0.22822793\n",
      " 0.22860363 0.2272511  0.22304321 0.22567314 0.22038823 0.22001252\n",
      " 0.21730745 0.21592987 0.21618034 0.21725736 0.21462743 0.19737007\n",
      " 0.19388854 0.18802755 0.18619912 0.19716969 0.19611772 0.19874765\n",
      " 0.19724483 0.19807138 0.19233563 0.18995617 0.20485911 0.21219787\n",
      " 0.21803381 0.22126487 0.21956168 0.21873513 0.21435191 0.21262367\n",
      " 0.20338134 0.19426425 0.2004258  0.19789606 0.20247965 0.20653726\n",
      " 0.20681277 0.20408265 0.20541014 0.20115216 0.19586725 0.19363807\n",
      " 0.19291171 0.18902943 0.18715091 0.18905448 0.1941891  0.18955542\n",
      " 0.18614903 0.18983093 0.18680025 0.1851221  0.18239198 0.17097057\n",
      " 0.15849718 0.15599249 0.15569192 0.16002505 0.16092546 0.15791894\n",
      " 0.15570071 0.15394136 0.15241259 0.15098585 0.14959958 0.14822957\n",
      " 0.14686967 0.14552118 0.14418751 0.14287208 0.14157744 0.14030486\n",
      " 0.13905463 0.13782594 0.1366173  0.13542664 0.13425173 0.13309035\n",
      " 0.13194041 0.13080032 0.12966888 0.12854543]\n",
      "24 day output [[0.12742983]]\n",
      "25 day input [0.21192235 0.20989355 0.2115717  0.2082154  0.20776456 0.20929242\n",
      " 0.20671259 0.20816531 0.21139637 0.20686287 0.21685661 0.21410144\n",
      " 0.2189856  0.22259236 0.21625548 0.22008766 0.22822793 0.22860363\n",
      " 0.2272511  0.22304321 0.22567314 0.22038823 0.22001252 0.21730745\n",
      " 0.21592987 0.21618034 0.21725736 0.21462743 0.19737007 0.19388854\n",
      " 0.18802755 0.18619912 0.19716969 0.19611772 0.19874765 0.19724483\n",
      " 0.19807138 0.19233563 0.18995617 0.20485911 0.21219787 0.21803381\n",
      " 0.22126487 0.21956168 0.21873513 0.21435191 0.21262367 0.20338134\n",
      " 0.19426425 0.2004258  0.19789606 0.20247965 0.20653726 0.20681277\n",
      " 0.20408265 0.20541014 0.20115216 0.19586725 0.19363807 0.19291171\n",
      " 0.18902943 0.18715091 0.18905448 0.1941891  0.18955542 0.18614903\n",
      " 0.18983093 0.18680025 0.1851221  0.18239198 0.17097057 0.15849718\n",
      " 0.15599249 0.15569192 0.16002505 0.16092546 0.15791894 0.15570071\n",
      " 0.15394136 0.15241259 0.15098585 0.14959958 0.14822957 0.14686967\n",
      " 0.14552118 0.14418751 0.14287208 0.14157744 0.14030486 0.13905463\n",
      " 0.13782594 0.1366173  0.13542664 0.13425173 0.13309035 0.13194041\n",
      " 0.13080032 0.12966888 0.12854543 0.12742983]\n",
      "25 day output [[0.12632233]]\n",
      "26 day input [0.20989355 0.2115717  0.2082154  0.20776456 0.20929242 0.20671259\n",
      " 0.20816531 0.21139637 0.20686287 0.21685661 0.21410144 0.2189856\n",
      " 0.22259236 0.21625548 0.22008766 0.22822793 0.22860363 0.2272511\n",
      " 0.22304321 0.22567314 0.22038823 0.22001252 0.21730745 0.21592987\n",
      " 0.21618034 0.21725736 0.21462743 0.19737007 0.19388854 0.18802755\n",
      " 0.18619912 0.19716969 0.19611772 0.19874765 0.19724483 0.19807138\n",
      " 0.19233563 0.18995617 0.20485911 0.21219787 0.21803381 0.22126487\n",
      " 0.21956168 0.21873513 0.21435191 0.21262367 0.20338134 0.19426425\n",
      " 0.2004258  0.19789606 0.20247965 0.20653726 0.20681277 0.20408265\n",
      " 0.20541014 0.20115216 0.19586725 0.19363807 0.19291171 0.18902943\n",
      " 0.18715091 0.18905448 0.1941891  0.18955542 0.18614903 0.18983093\n",
      " 0.18680025 0.1851221  0.18239198 0.17097057 0.15849718 0.15599249\n",
      " 0.15569192 0.16002505 0.16092546 0.15791894 0.15570071 0.15394136\n",
      " 0.15241259 0.15098585 0.14959958 0.14822957 0.14686967 0.14552118\n",
      " 0.14418751 0.14287208 0.14157744 0.14030486 0.13905463 0.13782594\n",
      " 0.1366173  0.13542664 0.13425173 0.13309035 0.13194041 0.13080032\n",
      " 0.12966888 0.12854543 0.12742983 0.12632233]\n",
      "26 day output [[0.12522362]]\n",
      "27 day input [0.2115717  0.2082154  0.20776456 0.20929242 0.20671259 0.20816531\n",
      " 0.21139637 0.20686287 0.21685661 0.21410144 0.2189856  0.22259236\n",
      " 0.21625548 0.22008766 0.22822793 0.22860363 0.2272511  0.22304321\n",
      " 0.22567314 0.22038823 0.22001252 0.21730745 0.21592987 0.21618034\n",
      " 0.21725736 0.21462743 0.19737007 0.19388854 0.18802755 0.18619912\n",
      " 0.19716969 0.19611772 0.19874765 0.19724483 0.19807138 0.19233563\n",
      " 0.18995617 0.20485911 0.21219787 0.21803381 0.22126487 0.21956168\n",
      " 0.21873513 0.21435191 0.21262367 0.20338134 0.19426425 0.2004258\n",
      " 0.19789606 0.20247965 0.20653726 0.20681277 0.20408265 0.20541014\n",
      " 0.20115216 0.19586725 0.19363807 0.19291171 0.18902943 0.18715091\n",
      " 0.18905448 0.1941891  0.18955542 0.18614903 0.18983093 0.18680025\n",
      " 0.1851221  0.18239198 0.17097057 0.15849718 0.15599249 0.15569192\n",
      " 0.16002505 0.16092546 0.15791894 0.15570071 0.15394136 0.15241259\n",
      " 0.15098585 0.14959958 0.14822957 0.14686967 0.14552118 0.14418751\n",
      " 0.14287208 0.14157744 0.14030486 0.13905463 0.13782594 0.1366173\n",
      " 0.13542664 0.13425173 0.13309035 0.13194041 0.13080032 0.12966888\n",
      " 0.12854543 0.12742983 0.12632233 0.12522362]\n",
      "27 day output [[0.12413451]]\n",
      "28 day input [0.2082154  0.20776456 0.20929242 0.20671259 0.20816531 0.21139637\n",
      " 0.20686287 0.21685661 0.21410144 0.2189856  0.22259236 0.21625548\n",
      " 0.22008766 0.22822793 0.22860363 0.2272511  0.22304321 0.22567314\n",
      " 0.22038823 0.22001252 0.21730745 0.21592987 0.21618034 0.21725736\n",
      " 0.21462743 0.19737007 0.19388854 0.18802755 0.18619912 0.19716969\n",
      " 0.19611772 0.19874765 0.19724483 0.19807138 0.19233563 0.18995617\n",
      " 0.20485911 0.21219787 0.21803381 0.22126487 0.21956168 0.21873513\n",
      " 0.21435191 0.21262367 0.20338134 0.19426425 0.2004258  0.19789606\n",
      " 0.20247965 0.20653726 0.20681277 0.20408265 0.20541014 0.20115216\n",
      " 0.19586725 0.19363807 0.19291171 0.18902943 0.18715091 0.18905448\n",
      " 0.1941891  0.18955542 0.18614903 0.18983093 0.18680025 0.1851221\n",
      " 0.18239198 0.17097057 0.15849718 0.15599249 0.15569192 0.16002505\n",
      " 0.16092546 0.15791894 0.15570071 0.15394136 0.15241259 0.15098585\n",
      " 0.14959958 0.14822957 0.14686967 0.14552118 0.14418751 0.14287208\n",
      " 0.14157744 0.14030486 0.13905463 0.13782594 0.1366173  0.13542664\n",
      " 0.13425173 0.13309035 0.13194041 0.13080032 0.12966888 0.12854543\n",
      " 0.12742983 0.12632233 0.12522362 0.12413451]\n",
      "28 day output [[0.12305599]]\n",
      "29 day input [0.20776456 0.20929242 0.20671259 0.20816531 0.21139637 0.20686287\n",
      " 0.21685661 0.21410144 0.2189856  0.22259236 0.21625548 0.22008766\n",
      " 0.22822793 0.22860363 0.2272511  0.22304321 0.22567314 0.22038823\n",
      " 0.22001252 0.21730745 0.21592987 0.21618034 0.21725736 0.21462743\n",
      " 0.19737007 0.19388854 0.18802755 0.18619912 0.19716969 0.19611772\n",
      " 0.19874765 0.19724483 0.19807138 0.19233563 0.18995617 0.20485911\n",
      " 0.21219787 0.21803381 0.22126487 0.21956168 0.21873513 0.21435191\n",
      " 0.21262367 0.20338134 0.19426425 0.2004258  0.19789606 0.20247965\n",
      " 0.20653726 0.20681277 0.20408265 0.20541014 0.20115216 0.19586725\n",
      " 0.19363807 0.19291171 0.18902943 0.18715091 0.18905448 0.1941891\n",
      " 0.18955542 0.18614903 0.18983093 0.18680025 0.1851221  0.18239198\n",
      " 0.17097057 0.15849718 0.15599249 0.15569192 0.16002505 0.16092546\n",
      " 0.15791894 0.15570071 0.15394136 0.15241259 0.15098585 0.14959958\n",
      " 0.14822957 0.14686967 0.14552118 0.14418751 0.14287208 0.14157744\n",
      " 0.14030486 0.13905463 0.13782594 0.1366173  0.13542664 0.13425173\n",
      " 0.13309035 0.13194041 0.13080032 0.12966888 0.12854543 0.12742983\n",
      " 0.12632233 0.12522362 0.12413451 0.12305599]\n",
      "29 day output [[0.121989]]\n",
      "[[0.1609254628419876], [0.15791894495487213], [0.1557007133960724], [0.15394136309623718], [0.15241259336471558], [0.15098585188388824], [0.1495995819568634], [0.14822956919670105], [0.14686967432498932], [0.14552117884159088], [0.14418751001358032], [0.14287208020687103], [0.14157743752002716], [0.14030486345291138], [0.13905462622642517], [0.13782593607902527], [0.13661730289459229], [0.13542664051055908], [0.13425172865390778], [0.13309034705162048], [0.13194040954113007], [0.13080032169818878], [0.12966887652873993], [0.12854543328285217], [0.12742982804775238], [0.12632232904434204], [0.12522362172603607], [0.12413451075553894], [0.12305598706007004], [0.12198899686336517]]\n"
     ]
    }
   ],
   "source": [
    "# demostrate prediction for next 10 days\n",
    "from numpy import array\n",
    "lst_output= []\n",
    "n_steps=100\n",
    "i=0\n",
    "while(i<30):\n",
    "    if(len(temp_input)>100):\n",
    "        x_input=np.array(temp_input[1:])\n",
    "        print(\"{} day input {}\".format(i,x_input))\n",
    "        x_input=x_input.reshape(1,-1)\n",
    "        x_input=x_input.reshape((1,n_steps,1))\n",
    "        #print(x_input)\n",
    "        yhat= model.predict(x_input,verbose=0)\n",
    "        print(\"{} day output {}\".format(i,yhat))\n",
    "        temp_input.extend(yhat[0].tolist())\n",
    "        temp_input=temp_input[1:]\n",
    "        #print(temp_input)\n",
    "        lst_output.extend(yhat.tolist())\n",
    "        i=i+1\n",
    "    else:\n",
    "        x_input = x_input.reshape((1,n_steps,1))\n",
    "        yhat=model.predict(x_input, verbose=0)\n",
    "        print(yhat[0])\n",
    "        temp_input.extend(yhat[0].tolist())\n",
    "        print(len(temp_input))\n",
    "        lst_output.extend(yhat.tolist())\n",
    "        i=i+1\n",
    "print(lst_output)"
   ]
  },
  {
   "cell_type": "code",
   "execution_count": 42,
   "id": "9074f275",
   "metadata": {},
   "outputs": [],
   "source": [
    "day_new = np.arange(1,101)\n",
    "day_pred=np.arange(101,131)"
   ]
  },
  {
   "cell_type": "code",
   "execution_count": 43,
   "id": "2f246c89",
   "metadata": {},
   "outputs": [],
   "source": [
    "import matplotlib.pyplot as plt"
   ]
  },
  {
   "cell_type": "code",
   "execution_count": 44,
   "id": "b48cb872",
   "metadata": {},
   "outputs": [
    {
     "data": {
      "text/plain": [
       "1257"
      ]
     },
     "execution_count": 44,
     "metadata": {},
     "output_type": "execute_result"
    }
   ],
   "source": [
    "len(df1)"
   ]
  },
  {
   "cell_type": "code",
   "execution_count": 45,
   "id": "4125481f",
   "metadata": {},
   "outputs": [],
   "source": [
    "df3=df1.tolist()\n",
    "df3.extend(lst_output)"
   ]
  },
  {
   "cell_type": "code",
   "execution_count": 47,
   "id": "0020daa2",
   "metadata": {},
   "outputs": [
    {
     "data": {
      "text/plain": [
       "[<matplotlib.lines.Line2D at 0x1895cee6260>]"
      ]
     },
     "execution_count": 47,
     "metadata": {},
     "output_type": "execute_result"
    },
    {
     "data": {
      "image/png": "[encoded data removed]",
      "text/plain": [
       "<Figure size 640x480 with 1 Axes>"
      ]
     },
     "metadata": {},
     "output_type": "display_data"
    }
   ],
   "source": [
    "plt.plot(day_new,scaler.inverse_transform(df1[1157:]))\n",
    "plt.plot(day_pred,scaler.inverse_transform(lst_output))\n"
   ]
  },
  {
   "cell_type": "code",
   "execution_count": 48,
   "id": "18802ef5",
   "metadata": {},
   "outputs": [
    {
     "data": {
      "text/plain": [
       "[<matplotlib.lines.Line2D at 0x1895d05f550>]"
      ]
     },
     "execution_count": 48,
     "metadata": {},
     "output_type": "execute_result"
    },
    {
     "data": {
      "image/png": "[encoded data removed]",
      "text/plain": [
       "<Figure size 640x480 with 1 Axes>"
      ]
     },
     "metadata": {},
     "output_type": "display_data"
    }
   ],
   "source": [
    "#complete output\n",
    "plt.plot(df3[1200:])"
   ]
  },
  {
   "cell_type": "code",
   "execution_count": null,
   "id": "54fd036c",
   "metadata": {},
   "outputs": [],
   "source": []
  }
 ],
 "metadata": {
  "kernelspec": {
   "display_name": "Python 3 (ipykernel)",
   "language": "python",
   "name": "python3"
  },
  "language_info": {
   "codemirror_mode": {
    "name": "ipython",
    "version": 3
   },
   "file_extension": ".py",
   "mimetype": "text/x-python",
   "name": "python",
   "nbconvert_exporter": "python",
   "pygments_lexer": "ipython3",
   "version": "3.10.9"
  }
 },
 "nbformat": 4,
 "nbformat_minor": 5
}
